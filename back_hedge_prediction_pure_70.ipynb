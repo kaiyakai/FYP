{
 "cells": [
  {
   "cell_type": "code",
   "execution_count": 1,
   "metadata": {},
   "outputs": [],
   "source": [
    "import sys\n",
    "import os\n",
    "import time\n",
    "import pandas as pd\n",
    "import numpy as np\n",
    "import matplotlib.pyplot as plt\n",
    "import cv2\n",
    "from copy import deepcopy\n",
    "from tqdm import tqdm\n",
    "import random\n",
    "from random import shuffle"
   ]
  },
  {
   "cell_type": "code",
   "execution_count": 2,
   "metadata": {},
   "outputs": [],
   "source": [
    "from IPython.display import clear_output\n",
    "from matplotlib import pyplot as plt\n",
    "import collections\n",
    "%matplotlib inline\n",
    "\n",
    "def live_plot(data, figsize=(16,8), title=''):\n",
    "    clear_output(wait=True)\n",
    "    plt.figure(figsize=figsize)\n",
    "    plt.imshow(convert_to_rgb(data.astype(int)))\n",
    "    plt.title(title)\n",
    "    plt.show()\n",
    "\n",
    "def convert_to_rgb(img):\n",
    "    img = deepcopy(img)\n",
    "    b,g,r = cv2.split(img)  \n",
    "    img = cv2.merge([r,g,b])\n",
    "    return img"
   ]
  },
  {
   "cell_type": "code",
   "execution_count": 3,
   "metadata": {},
   "outputs": [],
   "source": [
    "file_num = 70\n",
    "frame_dir = f'../scene_data/{file_num}'\n",
    "frame_bt_dir = f'../scene_data/{file_num}_back_true'"
   ]
  },
  {
   "cell_type": "code",
   "execution_count": 4,
   "metadata": {},
   "outputs": [],
   "source": [
    "scene_dict = {}\n",
    "for file_name in os.listdir(frame_dir):\n",
    "    if file_name[0] != '.':\n",
    "        num, verti_pos, hori_pos, real_back_prob = file_name.replace('.jpg', '').split('_')\n",
    "        scene_dict[int(num)] = {'file_name': file_name, 'num':num, 'verti_pos':int(verti_pos), 'hori_pos':int(hori_pos)}"
   ]
  },
  {
   "cell_type": "code",
   "execution_count": 5,
   "metadata": {},
   "outputs": [],
   "source": [
    "scene_bt_dict = {}\n",
    "for file_name in os.listdir(frame_bt_dir):\n",
    "    if file_name[0] != '.':\n",
    "        num, verti_pos, hori_pos, real_back_prob = file_name.replace('.npy', '').split('_')\n",
    "        scene_bt_dict[int(num)] = {'file_name': file_name, 'num':num, 'verti_pos':int(verti_pos), 'hori_pos':int(hori_pos)}"
   ]
  },
  {
   "cell_type": "code",
   "execution_count": 6,
   "metadata": {},
   "outputs": [
    {
     "name": "stderr",
     "output_type": "stream",
     "text": [
      "100%|█████████████████████████████| 499/499 [2:53:28<00:00, 20.86s/it]\n",
      "100%|█████████████████████| 398701/398701 [00:01<00:00, 205311.09it/s]\n",
      "100%|█████████████████████████████| 499/499 [2:00:09<00:00, 14.45s/it]\n",
      "100%|█████████████████████| 398701/398701 [00:02<00:00, 199162.46it/s]\n",
      "100%|█████████████████████████████| 499/499 [1:14:57<00:00,  9.01s/it]\n",
      "100%|█████████████████████| 398701/398701 [00:01<00:00, 230365.54it/s]\n",
      "100%|███████████████████████████████| 499/499 [41:18<00:00,  4.97s/it]\n",
      "100%|█████████████████████| 398701/398701 [00:02<00:00, 187161.08it/s]\n",
      "100%|███████████████████████████████| 499/499 [17:56<00:00,  2.16s/it]\n",
      "100%|█████████████████████| 398701/398701 [00:01<00:00, 217093.14it/s]\n",
      "100%|███████████████████████████████| 499/499 [17:46<00:00,  2.14s/it]\n",
      "100%|█████████████████████| 398701/398701 [00:01<00:00, 284957.18it/s]\n",
      "100%|███████████████████████████████| 499/499 [41:20<00:00,  4.97s/it]\n",
      "100%|█████████████████████| 398701/398701 [00:02<00:00, 185144.02it/s]\n",
      "100%|█████████████████████████████| 499/499 [1:14:52<00:00,  9.00s/it]\n",
      "100%|█████████████████████| 398701/398701 [00:02<00:00, 171811.79it/s]\n",
      "100%|█████████████████████████████| 499/499 [2:00:33<00:00, 14.50s/it]\n",
      "100%|█████████████████████| 398701/398701 [00:01<00:00, 256457.11it/s]\n",
      "100%|█████████████████████████████| 499/499 [2:53:46<00:00, 20.89s/it]\n",
      "100%|█████████████████████| 398701/398701 [00:01<00:00, 271229.04it/s]\n"
     ]
    }
   ],
   "source": [
    "scene_num_0 = random.choice(sorted(list(scene_dict.keys()))[5:-5])\n",
    "file_name_0 = scene_dict[scene_num_0]['file_name']\n",
    "file_name_bt_0 = scene_bt_dict[scene_num_0]['file_name']\n",
    "frame_0 = cv2.imread(f\"{frame_dir}/{file_name_0}\")\n",
    "frame_bt_0 = np.load(f\"{frame_bt_dir}/{file_name_bt_0}\").astype(int)\n",
    "\n",
    "n = 1\n",
    "\n",
    "set_shape = (n*2, n*2, 3)\n",
    "\n",
    "compare_frame_dict = {}\n",
    "\n",
    "for i in range(-5,6):\n",
    "    if i == 0:\n",
    "        continue\n",
    "    m_num = 3 + 4 * abs(i)\n",
    "    compare_frame_dict[i] = {}\n",
    "    scene_num = scene_num_0 + i\n",
    "    file_name = scene_dict[scene_num]['file_name']\n",
    "    file_name_bt = scene_bt_dict[scene_num]['file_name']\n",
    "    \n",
    "    abs_pos_0 = np.array((scene_dict[scene_num_0]['verti_pos'], scene_dict[scene_num_0]['hori_pos']))\n",
    "    abs_pos_1 = np.array((scene_dict[scene_num]['verti_pos'], scene_dict[scene_num]['hori_pos']))\n",
    "    \n",
    "    frame_1 = cv2.imread(f\"{frame_dir}/{file_name}\")\n",
    "    frame_bt_1 = np.load(f\"{frame_bt_dir}/{file_name_bt}\").astype(int)\n",
    "    compare_frame_dict[i]['euclidean_dis'] = np.sqrt(np.sum(np.power(abs_pos_1 - abs_pos_0, 2)/2))\n",
    "    \n",
    "    compare_dict = {}\n",
    "    for s0 in tqdm(range(n, frame_0.shape[0]), ncols=70):\n",
    "        for s1 in range(n, frame_0.shape[1]):\n",
    "            segment_0 = frame_0[s0-n:s0+n, s1-n:s1+n, :]\n",
    "            if segment_0.shape == set_shape:\n",
    "                temp_compare = {}\n",
    "                for m1 in range(-m_num, m_num+1):\n",
    "                    for m2 in range(-m_num, m_num+1):\n",
    "                        compare_1 = frame_1[max(s0-n+m1,0):max(s0+n+m1,0), max(s1-n+m2,0):max(s1+n+m2,0), :]\n",
    "                        if compare_1.shape == set_shape:\n",
    "                            diff_array = segment_0 - compare_1\n",
    "                            diff = np.sum(np.power(diff_array,2))/len(diff_array)\n",
    "                            temp_compare[(m1,m2)] = diff\n",
    "                temp_compare = {k: v for k, v in sorted(temp_compare.items(), key=lambda item: item[1])}\n",
    "                compare_dict[(s0,s1)] = np.array(list(temp_compare.keys())[0])\n",
    "\n",
    "    compare_mean_dict = {}\n",
    "    for key in tqdm(compare_dict, ncols=70):\n",
    "        compare_mean_dict[key] = []\n",
    "        s0, s1 = key\n",
    "        for c0 in range(s0-n,s0+n):\n",
    "            for c1 in range(s1-n, s1+n):\n",
    "                if (c0, c1) in compare_dict:\n",
    "                    compare_mean_dict[key].append(compare_dict[(c0, c1)])\n",
    "    compare_frame_dict[i]['compare_mean_dict'] = compare_mean_dict"
   ]
  },
  {
   "cell_type": "code",
   "execution_count": 7,
   "metadata": {},
   "outputs": [],
   "source": [
    "np.save(f'{file_num}_hedge_back.npy', compare_frame_dict)\n",
    "np.save(f'{file_num}_hedge_back_frame_bt_0.npy', frame_bt_0)"
   ]
  },
  {
   "cell_type": "code",
   "execution_count": null,
   "metadata": {},
   "outputs": [],
   "source": []
  },
  {
   "cell_type": "code",
   "execution_count": 8,
   "metadata": {},
   "outputs": [
    {
     "name": "stderr",
     "output_type": "stream",
     "text": [
      "100%|██████████████████████| 398701/398701 [00:12<00:00, 32920.62it/s]\n",
      "100%|██████████████████████| 398701/398701 [00:12<00:00, 32112.02it/s]\n",
      "100%|██████████████████████| 398701/398701 [00:12<00:00, 32308.36it/s]\n",
      "100%|██████████████████████| 398701/398701 [00:12<00:00, 31138.23it/s]\n",
      "100%|██████████████████████| 398701/398701 [00:12<00:00, 32689.48it/s]\n",
      "100%|██████████████████████| 398701/398701 [00:12<00:00, 32310.46it/s]\n",
      "100%|██████████████████████| 398701/398701 [00:11<00:00, 34877.50it/s]\n",
      "100%|██████████████████████| 398701/398701 [00:11<00:00, 34259.37it/s]\n",
      "100%|██████████████████████| 398701/398701 [00:11<00:00, 35885.71it/s]\n",
      "100%|██████████████████████| 398701/398701 [00:11<00:00, 36032.38it/s]\n"
     ]
    }
   ],
   "source": [
    "for i in compare_frame_dict:\n",
    "    compare_mean_dict = compare_frame_dict[i]['compare_mean_dict']\n",
    "    euclidean_dis = compare_frame_dict[i]['euclidean_dis']\n",
    "    \n",
    "    for key in tqdm(compare_mean_dict, ncols=70):\n",
    "        compare_mean_dict[key] = np.mean(compare_mean_dict[key], axis=0)\n",
    "        compare_mean_dict[key] = np.sqrt(np.sum(np.power(compare_mean_dict[key], 2)/2))"
   ]
  },
  {
   "cell_type": "code",
   "execution_count": 54,
   "metadata": {},
   "outputs": [
    {
     "name": "stderr",
     "output_type": "stream",
     "text": [
      "100%|██████████| 10/10 [00:11<00:00,  1.15s/it]\n"
     ]
    }
   ],
   "source": [
    "for i in tqdm(compare_frame_dict):\n",
    "    compare_mean_dict = compare_frame_dict[i]['compare_mean_dict']\n",
    "    euclidean_dis = compare_frame_dict[i]['euclidean_dis']\n",
    "    \n",
    "    sorted_compare_mean_dict = {k: v for k, v in sorted(compare_mean_dict.items(), key=lambda item: item[1])}\n",
    "    \n",
    "    back_keys = list(sorted_compare_mean_dict.keys())[:int(len(sorted_compare_mean_dict)*0.55)]\n",
    "    hedge_keys = list(sorted_compare_mean_dict.keys())[int(len(sorted_compare_mean_dict)*0.55):]\n",
    "    \n",
    "    back_compare_mean_dict = {k: compare_mean_dict[k] for k in back_keys}\n",
    "    hedge_compare_mean_dict = {k: compare_mean_dict[k] for k in hedge_keys}\n",
    "    \n",
    "    compare_frame_dict[i]['back'] = back_compare_mean_dict\n",
    "    compare_frame_dict[i]['hedge'] = hedge_compare_mean_dict"
   ]
  },
  {
   "cell_type": "code",
   "execution_count": null,
   "metadata": {},
   "outputs": [],
   "source": []
  },
  {
   "cell_type": "code",
   "execution_count": 59,
   "metadata": {},
   "outputs": [
    {
     "name": "stdout",
     "output_type": "stream",
     "text": [
      "back_accuracy 0.5903230955149691 219285\n",
      "hedge_accuracy 0.4833459669148794 179416\n",
      "back_accuracy 0.6738568975716739 138614\n",
      "hedge_accuracy 0.565628639424781 98745\n",
      "back_accuracy 0.7134031233911103 99059\n",
      "hedge_accuracy 0.6473816316667447 64143\n",
      "back_accuracy 0.7467082467082468 69264\n",
      "hedge_accuracy 0.7049767621998451 41312\n",
      "back_accuracy 0.7696024239446424 48846\n",
      "hedge_accuracy 0.7490442381212452 29296\n",
      "back_accuracy 0.7844035305893415 32969\n",
      "hedge_accuracy 0.834303937881309 21636\n",
      "back_accuracy 0.8196755581570365 23918\n",
      "hedge_accuracy 0.9066095195127453 17732\n",
      "back_accuracy 0.8352326189231574 19130\n",
      "hedge_accuracy 0.93495833851511 16082\n",
      "back_accuracy 0.8587696246883633 14841\n",
      "hedge_accuracy 0.9493485682435727 14353\n",
      "back_accuracy 0.8757578274229715 12041\n",
      "hedge_accuracy 0.9592324348540282 13393\n"
     ]
    },
    {
     "data": {
      "image/png": "[encoded data removed]",
      "text/plain": [
       "<Figure size 576x432 with 1 Axes>"
      ]
     },
     "metadata": {
      "needs_background": "light"
     },
     "output_type": "display_data"
    }
   ],
   "source": [
    "back_compare_mean_dict = {}\n",
    "hedge_compare_mean_dict = {}\n",
    "back_acc_list = []\n",
    "back_count_list = []\n",
    "hedge_acc_list = []\n",
    "hedge_count_list = []\n",
    "for i in compare_frame_dict:\n",
    "    if len(back_compare_mean_dict):\n",
    "        back_compare_mean_dict = {k:v for k, v in back_compare_mean_dict.items() if k in compare_frame_dict[i]['back']}\n",
    "    else:\n",
    "        back_compare_mean_dict = compare_frame_dict[i]['back']\n",
    "        \n",
    "    if len(hedge_compare_mean_dict):\n",
    "        hedge_compare_mean_dict = {k:v for k, v in hedge_compare_mean_dict.items() if k in compare_frame_dict[i]['hedge']}\n",
    "    else:\n",
    "        hedge_compare_mean_dict = compare_frame_dict[i]['hedge']\n",
    "    \n",
    "    back_accurate_list = []\n",
    "    for i, j in back_compare_mean_dict:\n",
    "        if sum(frame_bt_0[i][j])==3:\n",
    "            back_accurate_list.append(1)\n",
    "        else:\n",
    "            back_accurate_list.append(0)\n",
    "    print('back_accuracy', sum(back_accurate_list)/len(back_accurate_list), len(back_accurate_list))\n",
    "    back_acc_list.append(sum(back_accurate_list)/len(back_accurate_list))\n",
    "    back_count_list.append(len(back_accurate_list))\n",
    "    hedge_accurate_list = []\n",
    "    for i, j in hedge_compare_mean_dict:\n",
    "        if sum(frame_bt_0[i][j]) == 0:\n",
    "            hedge_accurate_list.append(1)\n",
    "        else:\n",
    "            hedge_accurate_list.append(0)\n",
    "    hedge_acc_list.append(sum(hedge_accurate_list)/len(hedge_accurate_list))\n",
    "    hedge_count_list.append(len(hedge_accurate_list))\n",
    "    print('hedge_accuracy', sum(hedge_accurate_list)/len(hedge_accurate_list), len(hedge_accurate_list))\n",
    "import matplotlib.pyplot as plt\n",
    "plt.figure(figsize=(8,6))\n",
    "plt.plot(list(range(1,11)), back_acc_list)\n",
    "plt.plot(list(range(1,11)), hedge_acc_list)\n",
    "plt.title('accuracy of background and hedge prediction\\nwith 45% hedge ratio')\n",
    "plt.legend(['background predict accuracy', 'hedge predict accuracy'])\n",
    "plt.ylabel('accuracy')\n",
    "plt.xlabel('number of compare frames')\n",
    "plt.savefig('back_hedge_45.png')"
   ]
  },
  {
   "cell_type": "code",
   "execution_count": null,
   "metadata": {},
   "outputs": [],
   "source": []
  },
  {
   "cell_type": "code",
   "execution_count": 60,
   "metadata": {},
   "outputs": [
    {
     "data": {
      "image/png": "[encoded data removed]",
      "text/plain": [
       "<Figure size 576x432 with 1 Axes>"
      ]
     },
     "metadata": {
      "needs_background": "light"
     },
     "output_type": "display_data"
    }
   ],
   "source": [
    "back_compare_mean_dict = {}\n",
    "hedge_compare_mean_dict = {}\n",
    "back_acc_list = []\n",
    "back_count_list = []\n",
    "hedge_acc_list = []\n",
    "hedge_count_list = []\n",
    "for i in compare_frame_dict:\n",
    "    if len(back_compare_mean_dict):\n",
    "        back_compare_mean_dict = {k:v for k, v in back_compare_mean_dict.items() if k in compare_frame_dict[i]['back']}\n",
    "    else:\n",
    "        back_compare_mean_dict = compare_frame_dict[i]['back']\n",
    "        \n",
    "    if len(hedge_compare_mean_dict):\n",
    "        hedge_compare_mean_dict = {k:v for k, v in hedge_compare_mean_dict.items() if k in compare_frame_dict[i]['hedge']}\n",
    "    else:\n",
    "        hedge_compare_mean_dict = compare_frame_dict[i]['hedge']\n",
    "    \n",
    "    back_accurate_list = []\n",
    "    for i, j in back_compare_mean_dict:\n",
    "        if sum(frame_bt_0[i][j])==3:\n",
    "            back_accurate_list.append(1)\n",
    "        else:\n",
    "            back_accurate_list.append(0)\n",
    "#     print('back_accuracy', sum(back_accurate_list)/len(back_accurate_list), len(back_accurate_list))\n",
    "    back_acc_list.append(sum(back_accurate_list)/len(back_accurate_list))\n",
    "    back_count_list.append(len(back_accurate_list))\n",
    "    hedge_accurate_list = []\n",
    "    for i, j in hedge_compare_mean_dict:\n",
    "        if sum(frame_bt_0[i][j]) == 0:\n",
    "            hedge_accurate_list.append(1)\n",
    "        else:\n",
    "            hedge_accurate_list.append(0)\n",
    "    hedge_acc_list.append(sum(hedge_accurate_list)/len(hedge_accurate_list))\n",
    "    hedge_count_list.append(len(hedge_accurate_list))\n",
    "#     print('hedge_accuracy', sum(hedge_accurate_list)/len(hedge_accurate_list), len(hedge_accurate_list))\n",
    "import matplotlib.pyplot as plt\n",
    "plt.figure(figsize=(8,6))\n",
    "plt.plot(list(range(1,11)), back_count_list)\n",
    "plt.plot(list(range(1,11)), hedge_count_list)\n",
    "plt.title('accuracy of background and hedge prediction\\nwith 45% hedge ratio')\n",
    "plt.legend(['background pixel count', 'hedge predict count'])\n",
    "plt.ylabel('number of pixels')\n",
    "plt.xlabel('number of compare frames')\n",
    "plt.savefig('back_hedge_45_count.png')"
   ]
  },
  {
   "cell_type": "code",
   "execution_count": null,
   "metadata": {},
   "outputs": [],
   "source": []
  },
  {
   "cell_type": "code",
   "execution_count": 85,
   "metadata": {},
   "outputs": [],
   "source": [
    "# import numpy as np\n",
    "# plt.figure(figsize=(8,6))\n",
    "# for i in range(-5,6):\n",
    "#     if i == 0:\n",
    "#         continue\n",
    "#     compare_mean_dict = compare_frame_dict[i]['compare_mean_dict']\n",
    "#     euclidean_dis = compare_frame_dict[i]['euclidean_dis']\n",
    "    \n",
    "#     sorted_compare_mean_dict = {k: v for k, v in sorted(compare_mean_dict.items(), key=lambda item: item[1])}\n",
    "#     plt.plot(np.cumsum([sum(frame_bt_0[k[0]][k[1]]) == 3 for k in sorted_compare_mean_dict]))\n",
    "# plt.show()"
   ]
  },
  {
   "cell_type": "code",
   "execution_count": null,
   "metadata": {},
   "outputs": [],
   "source": []
  },
  {
   "cell_type": "code",
   "execution_count": null,
   "metadata": {},
   "outputs": [],
   "source": []
  },
  {
   "cell_type": "code",
   "execution_count": 65,
   "metadata": {},
   "outputs": [],
   "source": [
    "# sorted_compare_mean_dict.values()"
   ]
  },
  {
   "cell_type": "code",
   "execution_count": null,
   "metadata": {},
   "outputs": [],
   "source": []
  },
  {
   "cell_type": "code",
   "execution_count": 13,
   "metadata": {},
   "outputs": [],
   "source": [
    "# i = 2"
   ]
  },
  {
   "cell_type": "code",
   "execution_count": 14,
   "metadata": {},
   "outputs": [],
   "source": [
    "# back_compare_mean_dict = compare_frame_dict[i]['back']\n",
    "# hedge_compare_mean_dict = compare_frame_dict[i]['hedge']"
   ]
  },
  {
   "cell_type": "code",
   "execution_count": 15,
   "metadata": {},
   "outputs": [
    {
     "name": "stdout",
     "output_type": "stream",
     "text": [
      "0.5475536984692693\n",
      "0.5508510942640538\n",
      "0.5546039462396339\n",
      "0.5622817996179434\n",
      "0.5914057823744763\n",
      "0.5991620111731844\n"
     ]
    }
   ],
   "source": [
    "for i in range(-3,4):\n",
    "    if i == 0:\n",
    "        continue\n",
    "    back_compare_mean_dict = compare_frame_dict[i]['back']\n",
    "    back_accurate_list = []\n",
    "    for i, j in back_compare_mean_dict:\n",
    "        if sum(frame_bt_1[i][j])==3:\n",
    "            back_accurate_list.append(1)\n",
    "        else:\n",
    "            back_accurate_list.append(0)\n",
    "    print(sum(back_accurate_list)/len(back_accurate_list))"
   ]
  },
  {
   "cell_type": "code",
   "execution_count": 16,
   "metadata": {},
   "outputs": [
    {
     "name": "stdout",
     "output_type": "stream",
     "text": [
      "0.4441726990057394\n",
      "0.4452087693416132\n",
      "0.4457554271948315\n",
      "0.44672073123078054\n",
      "0.45384596557568635\n",
      "0.4557510846902837\n"
     ]
    }
   ],
   "source": [
    "for i in range(-3,4):\n",
    "    if i == 0:\n",
    "        continue\n",
    "    hedge_compare_mean_dict = compare_frame_dict[i]['hedge']\n",
    "    hedge_accurate_list = []\n",
    "    for i, j in hedge_compare_mean_dict:\n",
    "        if sum(frame_bt_1[i][j]) == 0:\n",
    "            hedge_accurate_list.append(1)\n",
    "        else:\n",
    "            hedge_accurate_list.append(0)\n",
    "    print(sum(hedge_accurate_list)/len(hedge_accurate_list))"
   ]
  },
  {
   "cell_type": "code",
   "execution_count": 17,
   "metadata": {},
   "outputs": [
    {
     "name": "stdout",
     "output_type": "stream",
     "text": [
      "0.5991620111731844\n"
     ]
    }
   ],
   "source": [
    "back_accurate_list = []\n",
    "for i, j in back_compare_mean_dict:\n",
    "    if sum(frame_bt_1[i][j])==3:\n",
    "        back_accurate_list.append(1)\n",
    "    else:\n",
    "        back_accurate_list.append(0)\n",
    "print(sum(back_accurate_list)/len(back_accurate_list))"
   ]
  },
  {
   "cell_type": "code",
   "execution_count": 18,
   "metadata": {},
   "outputs": [
    {
     "name": "stdout",
     "output_type": "stream",
     "text": [
      "0.4557510846902837\n"
     ]
    }
   ],
   "source": [
    "hedge_accurate_list = []\n",
    "for i, j in hedge_compare_mean_dict:\n",
    "    if sum(frame_bt_1[i][j]) == 0:\n",
    "        hedge_accurate_list.append(1)\n",
    "    else:\n",
    "        hedge_accurate_list.append(0)\n",
    "print(sum(hedge_accurate_list)/len(hedge_accurate_list))"
   ]
  },
  {
   "cell_type": "code",
   "execution_count": 19,
   "metadata": {},
   "outputs": [
    {
     "data": {
      "text/plain": [
       "(73032, 325669)"
      ]
     },
     "execution_count": 19,
     "metadata": {},
     "output_type": "execute_result"
    }
   ],
   "source": [
    "len(back_accurate_list), len(hedge_accurate_list)"
   ]
  },
  {
   "cell_type": "code",
   "execution_count": null,
   "metadata": {},
   "outputs": [],
   "source": []
  }
 ],
 "metadata": {
  "kernelspec": {
   "display_name": "Python 3",
   "language": "python",
   "name": "python3"
  },
  "language_info": {
   "codemirror_mode": {
    "name": "ipython",
    "version": 3
   },
   "file_extension": ".py",
   "mimetype": "text/x-python",
   "name": "python",
   "nbconvert_exporter": "python",
   "pygments_lexer": "ipython3",
   "version": "3.7.6"
  }
 },
 "nbformat": 4,
 "nbformat_minor": 2
}
