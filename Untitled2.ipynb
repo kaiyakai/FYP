{
 "cells": [
  {
   "cell_type": "code",
   "execution_count": 1,
   "metadata": {},
   "outputs": [],
   "source": [
    "import sys\n",
    "import os\n",
    "import time\n",
    "import pandas as pd\n",
    "import numpy as np\n",
    "import matplotlib.pyplot as plt\n",
    "import cv2\n",
    "from copy import deepcopy\n",
    "from tqdm import tqdm\n",
    "import random\n",
    "from random import shuffle\n",
    "\n",
    "import cv2\n",
    "import numpy as np\n",
    "import random\n",
    "import os\n",
    "import re\n",
    "from tqdm import tqdm\n",
    "from copy import deepcopy\n",
    "import sys\n",
    "\n",
    "import cv2\n",
    "import numpy as np\n",
    "from tqdm import tqdm\n",
    "from multiprocessing import Process, Manager\n",
    "\n",
    "\n",
    "from IPython.display import clear_output\n",
    "from matplotlib import pyplot as plt\n",
    "import collections\n",
    "%matplotlib inline"
   ]
  },
  {
   "cell_type": "code",
   "execution_count": 10,
   "metadata": {},
   "outputs": [],
   "source": [
    "def mahalanobis(x, mean, cov):\n",
    "    return np.sqrt(np.linalg.inv(cov).dot(np.transpose(x - mean)).dot((x - mean)))\n",
    "\n",
    "def rgb_mean(image):\n",
    "    return tuple([np.mean([np.mean(image[:, :, i])]) for i in range(2, -1, -1)])\n",
    "\n",
    "def initialise_image(image):\n",
    "    reshape_size = image.shape[0] * image.shape[1]\n",
    "    a = np.zeros((dimension, reshape_size))\n",
    "    for i in range(3):\n",
    "        a[i] = np.array(image[:, :, i]).reshape(1, reshape_size)\n",
    "    return a"
   ]
  },
  {
   "cell_type": "code",
   "execution_count": 11,
   "metadata": {},
   "outputs": [],
   "source": [
    "background = cv2.imread('../../base_data/background.jpeg')\n",
    "hedge = cv2.imread('../../base_data/hedge.jpeg')"
   ]
  },
  {
   "cell_type": "code",
   "execution_count": 12,
   "metadata": {},
   "outputs": [],
   "source": [
    "crop_height = 900\n",
    "crop_width = 1500\n",
    "slide_width = 800\n",
    "camera_width = 250\n",
    "\n",
    "crop_width_extend = crop_width + 1000\n",
    "\n",
    "size_1 = camera_width * 2\n",
    "size_2 = slide_width\n",
    "\n",
    "dimension = 3\n",
    "black_bar_width = 10\n",
    "\n",
    "background_prob = 0.7\n",
    "noise_average_size = 10\n",
    "\n",
    "vertical_movement = [0]\n",
    "horizontal_movement = [1, 2]\n",
    "\n",
    "background_crop = deepcopy(background[-crop_height:, :crop_width, :])\n",
    "# live_plot(background_crop)\n",
    "\n",
    "hedge_crop = deepcopy(hedge[-crop_height:, :crop_width, :])"
   ]
  },
  {
   "cell_type": "code",
   "execution_count": 13,
   "metadata": {},
   "outputs": [],
   "source": [
    "hedge_mean = np.array(rgb_mean(hedge_crop))\n",
    "background_mean = np.array(rgb_mean(background_crop))\n",
    "hedge_cov = np.cov(initialise_image(hedge_crop))\n",
    "background_cov = np.cov(initialise_image(background_crop))"
   ]
  },
  {
   "cell_type": "code",
   "execution_count": 17,
   "metadata": {},
   "outputs": [
    {
     "name": "stderr",
     "output_type": "stream",
     "text": [
      "100%|███████████████████████████████| 900/900 [00:38<00:00, 23.68it/s]\n"
     ]
    }
   ],
   "source": [
    "count = 0\n",
    "for i in tqdm(range(background_crop.shape[0]), ncols=70):\n",
    "    for j in range(background_crop.shape[1]):\n",
    "        pixel = background_crop[i, j, :]\n",
    "        hedge_distance = mahalanobis(pixel, hedge_mean, hedge_cov)\n",
    "        top_distance = mahalanobis(pixel, background_mean, background_cov)\n",
    "        if top_distance < hedge_distance:\n",
    "            count += 1"
   ]
  },
  {
   "cell_type": "code",
   "execution_count": 18,
   "metadata": {},
   "outputs": [
    {
     "data": {
      "text/plain": [
       "0.9938814814814815"
      ]
     },
     "execution_count": 18,
     "metadata": {},
     "output_type": "execute_result"
    }
   ],
   "source": [
    "count/(background_crop.shape[0] * background_crop.shape[1])"
   ]
  },
  {
   "cell_type": "code",
   "execution_count": 19,
   "metadata": {},
   "outputs": [
    {
     "name": "stderr",
     "output_type": "stream",
     "text": [
      "100%|███████████████████████████████| 900/900 [00:38<00:00, 23.50it/s]\n"
     ]
    }
   ],
   "source": [
    "count = 0\n",
    "for i in tqdm(range(hedge_crop.shape[0]), ncols=70):\n",
    "    for j in range(hedge_crop.shape[1]):\n",
    "        pixel = hedge_crop[i, j, :]\n",
    "        hedge_distance = mahalanobis(pixel, hedge_mean, hedge_cov)\n",
    "        top_distance = mahalanobis(pixel, background_mean, background_cov)\n",
    "        if hedge_distance < top_distance:\n",
    "            count += 1"
   ]
  },
  {
   "cell_type": "code",
   "execution_count": 20,
   "metadata": {},
   "outputs": [
    {
     "data": {
      "text/plain": [
       "0.9331992592592593"
      ]
     },
     "execution_count": 20,
     "metadata": {},
     "output_type": "execute_result"
    }
   ],
   "source": [
    "count/(hedge_crop.shape[0] * hedge_crop.shape[1])"
   ]
  },
  {
   "cell_type": "code",
   "execution_count": null,
   "metadata": {},
   "outputs": [],
   "source": []
  }
 ],
 "metadata": {
  "kernelspec": {
   "display_name": "Python 3",
   "language": "python",
   "name": "python3"
  },
  "language_info": {
   "codemirror_mode": {
    "name": "ipython",
    "version": 3
   },
   "file_extension": ".py",
   "mimetype": "text/x-python",
   "name": "python",
   "nbconvert_exporter": "python",
   "pygments_lexer": "ipython3",
   "version": "3.7.6"
  }
 },
 "nbformat": 4,
 "nbformat_minor": 4
}
