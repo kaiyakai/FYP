{
 "cells": [
  {
   "cell_type": "code",
   "execution_count": null,
   "metadata": {},
   "outputs": [],
   "source": [
    "import sys\n",
    "import os\n",
    "import time\n",
    "import pandas as pd\n",
    "import numpy as np\n",
    "import matplotlib.pyplot as plt\n",
    "import cv2\n",
    "from copy import deepcopy\n",
    "from tqdm import tqdm\n",
    "import random\n",
    "from random import shuffle"
   ]
  },
  {
   "cell_type": "code",
   "execution_count": null,
   "metadata": {},
   "outputs": [],
   "source": [
    "import cv2\n",
    "import numpy as np\n",
    "import random\n",
    "import os\n",
    "import re\n",
    "from tqdm import tqdm\n",
    "from copy import deepcopy\n",
    "import sys\n",
    "\n",
    "import cv2\n",
    "import numpy as np\n",
    "from tqdm import tqdm\n",
    "from multiprocessing import Process, Manager\n"
   ]
  },
  {
   "cell_type": "code",
   "execution_count": null,
   "metadata": {},
   "outputs": [],
   "source": [
    "from IPython.display import clear_output\n",
    "from matplotlib import pyplot as plt\n",
    "import collections\n",
    "%matplotlib inline\n",
    "\n",
    "def live_plot(data, figsize=(16,8), title=''):\n",
    "    clear_output(wait=True)\n",
    "    plt.figure(figsize=figsize)\n",
    "    plt.imshow(convert_to_rgb(data.astype(int)))\n",
    "    plt.title(title)\n",
    "    plt.show()"
   ]
  },
  {
   "cell_type": "code",
   "execution_count": null,
   "metadata": {},
   "outputs": [],
   "source": [
    "manager = Manager()  # create only 1 mgr\n",
    "# prob_dict = manager.dict()"
   ]
  },
  {
   "cell_type": "markdown",
   "metadata": {},
   "source": [
    "## 读取数据"
   ]
  },
  {
   "cell_type": "code",
   "execution_count": null,
   "metadata": {},
   "outputs": [],
   "source": [
    "def convert_to_rgb(img):\n",
    "    img = deepcopy(img)\n",
    "    b,g,r = cv2.split(img)  \n",
    "    img = cv2.merge([r,g,b])\n",
    "    return img"
   ]
  },
  {
   "cell_type": "code",
   "execution_count": null,
   "metadata": {},
   "outputs": [],
   "source": [
    "background = cv2.imread('../../base_data/background.jpeg')\n",
    "hedge = cv2.imread('../../base_data/hedge.jpeg')"
   ]
  },
  {
   "cell_type": "markdown",
   "metadata": {},
   "source": [
    "## 生成视频代码"
   ]
  },
  {
   "cell_type": "code",
   "execution_count": null,
   "metadata": {},
   "outputs": [],
   "source": [
    "def generate_video(frame_dir=None, video_dir=None, video_name='video.avi'):\n",
    "\n",
    "    image_num = len([i for i in os.listdir(frame_dir) if '.jpg' in i])\n",
    "    image_name_list = [f'{i}.jpg' for i in range(image_num)]\n",
    "    frame = cv2.imread(os.path.join(frame_dir, image_name_list[0]))\n",
    "    height, width, layers = frame.shape\n",
    "\n",
    "    video = cv2.VideoWriter(f'{video_dir}/{video_name}', 0, 20, (width, height))\n",
    "\n",
    "    # video = cv2.VideoWriter(f'{self.video_dir}/{video_name}', 0, 20, (width, height))\n",
    "\n",
    "    for image in image_name_list:\n",
    "        video.write(cv2.imread(os.path.join(frame_dir, image)))\n",
    "\n",
    "    cv2.destroyAllWindows()\n",
    "    video.release()"
   ]
  },
  {
   "cell_type": "markdown",
   "metadata": {},
   "source": [
    "## 定义参数"
   ]
  },
  {
   "cell_type": "code",
   "execution_count": null,
   "metadata": {},
   "outputs": [],
   "source": [
    "speed_dict = {\n",
    "    \"background\": 1,\n",
    "    \"hedge_1\": 2,\n",
    "    \"hedge_2\": 3,\n",
    "    \"black_bar\": 4\n",
    "}\n",
    "\n",
    "crop_height = 900\n",
    "crop_width = 1500\n",
    "slide_width = 800\n",
    "camera_width = 250\n",
    "\n",
    "crop_width_extend = crop_width + 1000\n",
    "\n",
    "size_1 = camera_width * 2\n",
    "size_2 = slide_width\n",
    "\n",
    "dimension = 3\n",
    "black_bar_width = 5\n",
    "\n",
    "background_prob = 0.9\n",
    "noise_average_size = 10\n",
    "\n",
    "vertical_movement = [0]\n",
    "horizontal_movement = [1, 2]"
   ]
  },
  {
   "cell_type": "code",
   "execution_count": null,
   "metadata": {},
   "outputs": [],
   "source": [
    "background_crop = deepcopy(background[-crop_height:, :crop_width, :])\n",
    "# live_plot(background_crop)"
   ]
  },
  {
   "cell_type": "code",
   "execution_count": null,
   "metadata": {},
   "outputs": [],
   "source": [
    "hedge_crop = deepcopy(hedge[-crop_height:, :crop_width, :])\n",
    "# live_plot(hedge_crop)"
   ]
  },
  {
   "cell_type": "code",
   "execution_count": null,
   "metadata": {},
   "outputs": [],
   "source": [
    "def rgb_mean(image):\n",
    "    return tuple([np.mean([np.mean(image[:, :, i])]) for i in range(2, -1, -1)])\n",
    "\n",
    "def initialise_image(image):\n",
    "    reshape_size = image.shape[0] * image.shape[1]\n",
    "    a = np.zeros((dimension, reshape_size))\n",
    "    for i in range(3):\n",
    "        a[i] = np.array(image[:, :, i]).reshape(1, reshape_size)\n",
    "    return a\n",
    "\n",
    "def random_select():\n",
    "    return random.randint(0, 250), random.randint(0, 750)\n",
    "\n",
    "def random_radius():\n",
    "    return random.randint(10, 35)\n",
    "\n",
    "def mahalanobis(x, mean, cov):\n",
    "    return np.sqrt(np.linalg.inv(cov).dot(np.transpose(x - mean)).dot((x - mean)))\n",
    "\n",
    "def cal_ratio_prob(x):\n",
    "    return 1 - (x/x.sum())\n",
    "\n",
    "def ratio_soft_max(self, x):\n",
    "    return ratio_prob(soft_max(x))\n",
    "\n",
    "def soft_max(x):\n",
    "    e_x = np.exp(x - np.max(x))\n",
    "    return e_x / e_x.sum()"
   ]
  },
  {
   "cell_type": "code",
   "execution_count": null,
   "metadata": {},
   "outputs": [],
   "source": [
    "hedge_mean = np.array(rgb_mean(hedge_crop))\n",
    "background_mean = np.array(rgb_mean(background_crop))\n",
    "hedge_cov = np.cov(initialise_image(hedge_crop))\n",
    "background_cov = np.cov(initialise_image(background_crop))"
   ]
  },
  {
   "cell_type": "code",
   "execution_count": null,
   "metadata": {},
   "outputs": [],
   "source": []
  },
  {
   "cell_type": "markdown",
   "metadata": {},
   "source": [
    "## 显示图片"
   ]
  },
  {
   "cell_type": "code",
   "execution_count": null,
   "metadata": {},
   "outputs": [],
   "source": [
    "# plt.imshow(convert_to_rgb(background))\n",
    "# plt.show()\n",
    "# plt.imshow(convert_to_rgb(hedge))\n",
    "# plt.show()"
   ]
  },
  {
   "cell_type": "code",
   "execution_count": null,
   "metadata": {},
   "outputs": [],
   "source": [
    "background.shape, hedge.shape"
   ]
  },
  {
   "cell_type": "markdown",
   "metadata": {},
   "source": [
    "## 定义参数"
   ]
  },
  {
   "cell_type": "code",
   "execution_count": null,
   "metadata": {},
   "outputs": [],
   "source": [
    "background_crop = deepcopy(background[-crop_height:, :crop_width, :])\n",
    "# live_plot(background_crop)"
   ]
  },
  {
   "cell_type": "code",
   "execution_count": null,
   "metadata": {},
   "outputs": [],
   "source": [
    "hedge_crop = deepcopy(hedge[-crop_height:, :crop_width, :])\n",
    "# live_plot(hedge_crop)"
   ]
  },
  {
   "cell_type": "code",
   "execution_count": null,
   "metadata": {},
   "outputs": [],
   "source": [
    "def generate_black_bar_image():\n",
    "    black_bar_image = np.zeros((crop_height, crop_width_extend, dimension))\n",
    "    for i in range(150, crop_width_extend, 200):\n",
    "        black_bar_image[:, i - black_bar_width:i + black_bar_width, :] = 1\n",
    "    return black_bar_image\n",
    "\n",
    "def generate_random_hole():\n",
    "    random_hole = np.random.random_sample((crop_height + noise_average_size,\n",
    "                                           crop_width_extend + noise_average_size))\n",
    "    random_hole = np.round(random_hole - (background_prob / 2))\n",
    "    group_random_hole = np.zeros((crop_height, crop_width))\n",
    "    for i in range(group_random_hole.shape[0]):\n",
    "        for j in range(group_random_hole.shape[1]):\n",
    "            group_random_hole[i, j] = random_hole[i:i + noise_average_size, j:j + noise_average_size].mean()\n",
    "    group_random_hole = np.round(group_random_hole / group_random_hole.max())\n",
    "    group_random_hole = np.array([[[j] * 3 for j in i] for i in group_random_hole])\n",
    "    return group_random_hole.astype(int)"
   ]
  },
  {
   "cell_type": "code",
   "execution_count": null,
   "metadata": {},
   "outputs": [],
   "source": [
    "def calculate_frame_prob(frame):\n",
    "    frame_prob = np.zeros(frame.shape)\n",
    "    for i in range(frame.shape[0]):\n",
    "        for j in range(frame.shape[1]):\n",
    "            pixel = frame[i][j]\n",
    "            hedge_distance = mahalanobis(pixel, hedge_mean, hedge_cov)\n",
    "            top_distance = mahalanobis(pixel, background_mean, background_cov)\n",
    "            ratio_prob = cal_ratio_prob(np.array([top_distance, hedge_distance]))[0]\n",
    "            frame_prob[i][j] = round(ratio_prob)\n",
    "    return frame_prob"
   ]
  },
  {
   "cell_type": "code",
   "execution_count": null,
   "metadata": {},
   "outputs": [],
   "source": [
    "random_hole_1 = generate_random_hole()\n",
    "# live_plot(random_hole_1 * 255)\n",
    "\n",
    "random_hole_2 = generate_random_hole()\n",
    "# live_plot(random_hole_2 * 255)\n",
    "\n",
    "black_bar_image = generate_black_bar_image()\n",
    "# live_plot(((1 - black_bar_image)*255).astype(int))\n",
    "\n",
    "# random_hole_1 = generate_random_hole()\n",
    "# random_hole_2 = generate_random_hole()\n",
    "# black_bar_image = generate_black_bar_image()\n",
    "verti_pos = int(background_crop.shape[0]/2)\n",
    "hori_pos = 0\n",
    "\n",
    "image_dict = {}\n",
    "\n",
    "for i in tqdm(range(10000), ncols=70):\n",
    "    try:\n",
    "        upper, lower = verti_pos + camera_width, verti_pos - camera_width\n",
    "        background_pos = int(speed_dict['background'] * hori_pos)\n",
    "        hedge_1_pos = int(speed_dict['hedge_1'] * hori_pos)\n",
    "        hedge_2_pos = int(speed_dict['hedge_2'] * hori_pos)\n",
    "        black_bar_pos = int(speed_dict['black_bar'] * hori_pos)\n",
    "\n",
    "        background_crop_temp = background_crop[int(lower):int(upper), background_pos:background_pos + slide_width, :]\n",
    "        hedge_1_image_temp = hedge_crop[int(lower):int(upper), hedge_1_pos:hedge_1_pos + slide_width, :]\n",
    "        random_hole_1_temp = random_hole_1[int(lower):int(upper), hedge_1_pos:hedge_1_pos + slide_width, :]\n",
    "\n",
    "        hedge_2_image_temp = hedge_crop[int(lower):int(upper), hedge_2_pos:hedge_2_pos + slide_width, :]\n",
    "        random_hole_2_temp = random_hole_2[int(lower):int(upper), hedge_2_pos:hedge_2_pos + slide_width, :]\n",
    "\n",
    "        black_bar_image_temp = black_bar_image[int(lower):int(upper), black_bar_pos:black_bar_pos + slide_width, :]\n",
    "\n",
    "        output_image = background_crop_temp * (1 - random_hole_1_temp) + hedge_1_image_temp * random_hole_1_temp\n",
    "        output_image = output_image * (1 - random_hole_2_temp) + hedge_2_image_temp * random_hole_2_temp\n",
    "        output_image = output_image * (1 - black_bar_image_temp) + black_bar_image_temp\n",
    "        output_image = output_image.astype(int)\n",
    "#         cv2.imwrite(f\"../scene_data/{i}_{verti_pos}_{hori_pos}.jpg\", output_image)\n",
    "        image_dict[f\"{i}_{verti_pos}_{hori_pos}.jpg\"] = output_image.copy()\n",
    "        hori_pos += random.choice(horizontal_movement)\n",
    "        verti_pos += random.choice(vertical_movement)\n",
    "    except Exception as e:\n",
    "        print(e)\n",
    "        break"
   ]
  },
  {
   "cell_type": "code",
   "execution_count": null,
   "metadata": {},
   "outputs": [],
   "source": [
    "n = 4\n",
    "m = 4\n",
    "set_shape = (2*n, 2*n, 3)"
   ]
  },
  {
   "cell_type": "code",
   "execution_count": null,
   "metadata": {},
   "outputs": [],
   "source": [
    "frame_dir = '../scene_data'\n",
    "\n",
    "scene_dict = {}\n",
    "for file_name in image_dict.keys():\n",
    "    if file_name[0] != '.':\n",
    "        num, verti_pos, hori_pos = file_name.replace('.jpg', '').split('_')\n",
    "        scene_dict[int(num)] = {'file_name': file_name, 'num':num, 'verti_pos':int(verti_pos), 'hori_pos':int(hori_pos)}\n"
   ]
  },
  {
   "cell_type": "code",
   "execution_count": null,
   "metadata": {},
   "outputs": [],
   "source": [
    "# scene_dict"
   ]
  },
  {
   "cell_type": "code",
   "execution_count": null,
   "metadata": {},
   "outputs": [],
   "source": []
  },
  {
   "cell_type": "code",
   "execution_count": null,
   "metadata": {
    "scrolled": true
   },
   "outputs": [],
   "source": [
    "result_compare_list = []\n",
    "\n",
    "for _ in tqdm(range(100), ncols=70):\n",
    "    compare_list = []\n",
    "    scene_num = random.choice(list(scene_dict.keys()))\n",
    "    for num in [scene_num, scene_num + 1]:\n",
    "        file_name = scene_dict[num]['file_name']\n",
    "        verti_pos = scene_dict[num]['verti_pos']\n",
    "        hori_pos = scene_dict[num]['hori_pos']\n",
    "        frame = np.array(image_dict[file_name].copy())\n",
    "        compare_list.append([frame, (verti_pos, hori_pos), num])\n",
    "    ground_truth = np.array(compare_list[1][1]) - np.array(compare_list[0][1])\n",
    "\n",
    "    compare_dict = {}\n",
    "    frame = compare_list[0][0]\n",
    "    compare_frame = compare_list[1][0]\n",
    "    for _ in range(32):\n",
    "        while 1:\n",
    "            frame_i, frame_j = random.choice(range(frame.shape[0])), random.choice(range(frame.shape[1]))\n",
    "            pixels = frame[frame_i - n:frame_i + n, frame_j - n:frame_j + n, :]\n",
    "            pixels_prob = calculate_frame_prob(pixels)\n",
    "            if pixels.shape == set_shape and np.sum(pixels_prob) >= set_shape[0] * set_shape[1] * set_shape[2] * 0.8:\n",
    "                break\n",
    "\n",
    "        for i in range(frame_i-m, frame_i+m):\n",
    "            for j in range(frame_j-m, frame_j+m):\n",
    "                compare_pixels = compare_frame[i - n:i + n,j - n:j + n,:]\n",
    "                if pixels.shape == set_shape and compare_pixels.shape == set_shape:\n",
    "    #                 pixels_prob = calculate_frame_prob(pixels)\n",
    "    #                 compare_pixels_prob = calculate_frame_prob(compare_pixels)\n",
    "    #                 total_prob = pixels_prob * compare_pixels_prob\n",
    "\n",
    "                    diff_array = np.array([i for i in ((pixels - compare_pixels)).reshape(-1,1) if i != 0])\n",
    "\n",
    "                    diff = np.sum(np.power(diff_array,2))/len(diff_array)\n",
    "                    compare_dict[(frame_i - i, frame_j - j)] = compare_dict.get((frame_i - i, frame_j - j), []) + [diff]\n",
    "    compare_dict = {k:np.mean(v) for k,v in compare_dict.items()}\n",
    "    compare_dict = {k: v for k, v in sorted(compare_dict.items(), key=lambda item: item[1])}\n",
    "    predict = np.array(list(compare_dict.keys())[0])\n",
    "    result_compare_list.append(list(ground_truth) == list(predict))\n",
    "    print((ground_truth, predict))\n",
    "print('{:.2f}%'.format(sum(result_compare_list)*100/len(result_compare_list)))\n",
    "    "
   ]
  },
  {
   "cell_type": "code",
   "execution_count": null,
   "metadata": {},
   "outputs": [],
   "source": []
  }
 ],
 "metadata": {
  "kernelspec": {
   "display_name": "Python 3",
   "language": "python",
   "name": "python3"
  },
  "language_info": {
   "codemirror_mode": {
    "name": "ipython",
    "version": 3
   },
   "file_extension": ".py",
   "mimetype": "text/x-python",
   "name": "python",
   "nbconvert_exporter": "python",
   "pygments_lexer": "ipython3",
   "version": "3.7.3"
  }
 },
 "nbformat": 4,
 "nbformat_minor": 2
}
