{
 "cells": [
  {
   "cell_type": "code",
   "execution_count": 1,
   "metadata": {},
   "outputs": [],
   "source": [
    "import sys\n",
    "import os\n",
    "import time\n",
    "import pandas as pd\n",
    "import numpy as np\n",
    "import matplotlib.pyplot as plt\n",
    "import cv2\n",
    "from copy import deepcopy\n",
    "from tqdm import tqdm\n",
    "import random\n",
    "from random import shuffle"
   ]
  },
  {
   "cell_type": "code",
   "execution_count": 2,
   "metadata": {},
   "outputs": [],
   "source": [
    "import cv2\n",
    "import numpy as np\n",
    "import random\n",
    "import os\n",
    "import re\n",
    "from tqdm import tqdm\n",
    "from copy import deepcopy\n",
    "import sys\n",
    "\n",
    "import cv2\n",
    "import numpy as np\n",
    "from tqdm import tqdm\n",
    "from multiprocessing import Process, Manager\n"
   ]
  },
  {
   "cell_type": "code",
   "execution_count": 3,
   "metadata": {},
   "outputs": [],
   "source": [
    "from IPython.display import clear_output\n",
    "from matplotlib import pyplot as plt\n",
    "import collections\n",
    "%matplotlib inline\n",
    "\n",
    "def live_plot(data, figsize=(16,8), title=''):\n",
    "    clear_output(wait=True)\n",
    "    plt.figure(figsize=figsize)\n",
    "    plt.imshow(convert_to_rgb(data.astype(int)))\n",
    "    plt.title(title)\n",
    "    plt.show()"
   ]
  },
  {
   "cell_type": "code",
   "execution_count": 4,
   "metadata": {},
   "outputs": [],
   "source": [
    "manager = Manager()  # create only 1 mgr\n",
    "# prob_dict = manager.dict()"
   ]
  },
  {
   "cell_type": "markdown",
   "metadata": {},
   "source": [
    "## 读取数据"
   ]
  },
  {
   "cell_type": "code",
   "execution_count": 5,
   "metadata": {},
   "outputs": [],
   "source": [
    "def convert_to_rgb(img):\n",
    "    img = deepcopy(img)\n",
    "    b,g,r = cv2.split(img)  \n",
    "    img = cv2.merge([r,g,b])\n",
    "    return img"
   ]
  },
  {
   "cell_type": "code",
   "execution_count": 6,
   "metadata": {},
   "outputs": [],
   "source": [
    "background = cv2.imread('../../base_data/background.jpeg')\n",
    "hedge = cv2.imread('../../base_data/hedge.jpeg')"
   ]
  },
  {
   "cell_type": "markdown",
   "metadata": {},
   "source": [
    "## 生成视频代码"
   ]
  },
  {
   "cell_type": "code",
   "execution_count": 7,
   "metadata": {},
   "outputs": [],
   "source": [
    "def generate_video(frame_dir=None, video_dir=None, video_name='video.avi'):\n",
    "\n",
    "    image_num = len([i for i in os.listdir(frame_dir) if '.jpg' in i])\n",
    "    image_name_list = [f'{i}.jpg' for i in range(image_num)]\n",
    "    frame = cv2.imread(os.path.join(frame_dir, image_name_list[0]))\n",
    "    height, width, layers = frame.shape\n",
    "\n",
    "    video = cv2.VideoWriter(f'{video_dir}/{video_name}', 0, 20, (width, height))\n",
    "\n",
    "    # video = cv2.VideoWriter(f'{self.video_dir}/{video_name}', 0, 20, (width, height))\n",
    "\n",
    "    for image in image_name_list:\n",
    "        video.write(cv2.imread(os.path.join(frame_dir, image)))\n",
    "\n",
    "    cv2.destroyAllWindows()\n",
    "    video.release()"
   ]
  },
  {
   "cell_type": "markdown",
   "metadata": {},
   "source": [
    "## 定义参数"
   ]
  },
  {
   "cell_type": "code",
   "execution_count": 8,
   "metadata": {},
   "outputs": [],
   "source": [
    "speed_dict = {\n",
    "    \"background\": 1,\n",
    "    \"hedge_1\": 2,\n",
    "    \"hedge_2\": 3,\n",
    "    \"black_bar\": 4\n",
    "}\n",
    "\n",
    "crop_height = 900\n",
    "crop_width = 1500\n",
    "slide_width = 800\n",
    "camera_width = 250\n",
    "\n",
    "crop_width_extend = crop_width + 1000\n",
    "\n",
    "size_1 = camera_width * 2\n",
    "size_2 = slide_width\n",
    "\n",
    "dimension = 3\n",
    "black_bar_width = 10\n",
    "\n",
    "background_prob = 0.7\n",
    "noise_average_size = 10\n",
    "\n",
    "vertical_movement = [0]\n",
    "horizontal_movement = [1, 2]"
   ]
  },
  {
   "cell_type": "code",
   "execution_count": 9,
   "metadata": {},
   "outputs": [],
   "source": [
    "background_crop = deepcopy(background[-crop_height:, :crop_width, :])\n",
    "# live_plot(background_crop)"
   ]
  },
  {
   "cell_type": "code",
   "execution_count": 10,
   "metadata": {},
   "outputs": [],
   "source": [
    "hedge_crop = deepcopy(hedge[-crop_height:, :crop_width, :])\n",
    "# live_plot(hedge_crop)"
   ]
  },
  {
   "cell_type": "code",
   "execution_count": 11,
   "metadata": {},
   "outputs": [],
   "source": [
    "def rgb_mean(image):\n",
    "    return tuple([np.mean([np.mean(image[:, :, i])]) for i in range(2, -1, -1)])\n",
    "\n",
    "def initialise_image(image):\n",
    "    reshape_size = image.shape[0] * image.shape[1]\n",
    "    a = np.zeros((dimension, reshape_size))\n",
    "    for i in range(3):\n",
    "        a[i] = np.array(image[:, :, i]).reshape(1, reshape_size)\n",
    "    return a\n",
    "\n",
    "def random_select():\n",
    "    return random.randint(0, 250), random.randint(0, 750)\n",
    "\n",
    "def random_radius():\n",
    "    return random.randint(10, 35)\n",
    "\n",
    "def mahalanobis(x, mean, cov):\n",
    "    return np.sqrt(np.linalg.inv(cov).dot(np.transpose(x - mean)).dot((x - mean)))\n",
    "\n",
    "def cal_ratio_prob(x):\n",
    "    return 1 - (x/x.sum())\n",
    "\n",
    "def ratio_soft_max(self, x):\n",
    "    return ratio_prob(soft_max(x))\n",
    "\n",
    "def soft_max(x):\n",
    "    e_x = np.exp(x - np.max(x))\n",
    "    return e_x / e_x.sum()"
   ]
  },
  {
   "cell_type": "code",
   "execution_count": 12,
   "metadata": {},
   "outputs": [],
   "source": [
    "hedge_mean = np.array(rgb_mean(hedge_crop))\n",
    "background_mean = np.array(rgb_mean(background_crop))\n",
    "hedge_cov = np.cov(initialise_image(hedge_crop))\n",
    "background_cov = np.cov(initialise_image(background_crop))"
   ]
  },
  {
   "cell_type": "code",
   "execution_count": null,
   "metadata": {},
   "outputs": [],
   "source": []
  },
  {
   "cell_type": "markdown",
   "metadata": {},
   "source": [
    "## 显示图片"
   ]
  },
  {
   "cell_type": "code",
   "execution_count": 13,
   "metadata": {},
   "outputs": [],
   "source": [
    "# plt.imshow(convert_to_rgb(background))\n",
    "# plt.show()\n",
    "# plt.imshow(convert_to_rgb(hedge))\n",
    "# plt.show()"
   ]
  },
  {
   "cell_type": "code",
   "execution_count": 14,
   "metadata": {},
   "outputs": [
    {
     "data": {
      "text/plain": [
       "((941, 1672, 3), (1128, 1504, 3))"
      ]
     },
     "execution_count": 14,
     "metadata": {},
     "output_type": "execute_result"
    }
   ],
   "source": [
    "background.shape, hedge.shape"
   ]
  },
  {
   "cell_type": "markdown",
   "metadata": {},
   "source": [
    "## 定义参数"
   ]
  },
  {
   "cell_type": "code",
   "execution_count": 15,
   "metadata": {},
   "outputs": [],
   "source": [
    "speed_dict = {\n",
    "    \"background\": 1,\n",
    "    \"hedge_1\": 2,\n",
    "    \"hedge_2\": 3,\n",
    "    \"black_bar\": 4\n",
    "}\n",
    "\n",
    "crop_height = 900\n",
    "crop_width = 1500\n",
    "slide_width = 800\n",
    "camera_width = 250\n",
    "\n",
    "crop_width_extend = crop_width + 1000\n",
    "\n",
    "size_1 = camera_width * 2\n",
    "size_2 = slide_width\n",
    "\n",
    "dimension = 3\n",
    "black_bar_width = 10\n",
    "\n",
    "background_prob = 0.7\n",
    "noise_average_size = 10\n",
    "\n",
    "vertical_movement = [0]\n",
    "horizontal_movement = [1, 2]"
   ]
  },
  {
   "cell_type": "code",
   "execution_count": 16,
   "metadata": {},
   "outputs": [],
   "source": [
    "background_crop = deepcopy(background[-crop_height:, :crop_width, :])\n",
    "# live_plot(background_crop)"
   ]
  },
  {
   "cell_type": "code",
   "execution_count": 17,
   "metadata": {},
   "outputs": [],
   "source": [
    "hedge_crop = deepcopy(hedge[-crop_height:, :crop_width, :])\n",
    "# live_plot(hedge_crop)"
   ]
  },
  {
   "cell_type": "markdown",
   "metadata": {},
   "source": [
    "## 检测位移的算法"
   ]
  },
  {
   "cell_type": "code",
   "execution_count": 18,
   "metadata": {},
   "outputs": [],
   "source": [
    "def calculate_frame_prob(frame):\n",
    "    frame_prob = np.zeros(frame.shape)\n",
    "    for i in range(frame.shape[0]):\n",
    "        for j in range(frame.shape[1]):\n",
    "            pixel = frame[i][j]\n",
    "            hedge_distance = mahalanobis(pixel, hedge_mean, hedge_cov)\n",
    "            top_distance = mahalanobis(pixel, background_mean, background_cov)\n",
    "            ratio_prob = cal_ratio_prob(np.array([top_distance, hedge_distance]))[0]\n",
    "            frame_prob[i][j] = round(ratio_prob)\n",
    "    return frame_prob"
   ]
  },
  {
   "cell_type": "code",
   "execution_count": 19,
   "metadata": {},
   "outputs": [],
   "source": [
    "n = 16\n",
    "m = 10\n",
    "set_shape = (2*n, 2*n, 3)"
   ]
  },
  {
   "cell_type": "code",
   "execution_count": 20,
   "metadata": {},
   "outputs": [],
   "source": [
    "frame_dir = '../scene_data/100'\n",
    "\n",
    "scene_dict = {}\n",
    "for file_name in os.listdir(frame_dir):\n",
    "    if file_name[0] != '.':\n",
    "        num, verti_pos, hori_pos, real_back_prob = file_name.replace('.jpg', '').split('_')\n",
    "        scene_dict[int(num)] = {'file_name': file_name, 'num':num, 'verti_pos':int(verti_pos), 'hori_pos':int(hori_pos)}\n"
   ]
  },
  {
   "cell_type": "code",
   "execution_count": 21,
   "metadata": {
    "scrolled": false
   },
   "outputs": [
    {
     "name": "stderr",
     "output_type": "stream",
     "text": [
      "  0%|                             | 1/1000 [01:03<17:33:50, 63.29s/it]"
     ]
    },
    {
     "name": "stdout",
     "output_type": "stream",
     "text": [
      "[-1  2] [-1  7]\n",
      "0.00%\n"
     ]
    },
    {
     "name": "stderr",
     "output_type": "stream",
     "text": [
      "\r",
      "  0%|                             | 2/1000 [02:04<17:24:18, 62.78s/it]"
     ]
    },
    {
     "name": "stdout",
     "output_type": "stream",
     "text": [
      "[-1  1] [-1  2]\n",
      "0.00%\n"
     ]
    },
    {
     "name": "stderr",
     "output_type": "stream",
     "text": [
      "\r",
      "  0%|                             | 3/1000 [03:08<17:27:25, 63.04s/it]"
     ]
    },
    {
     "name": "stdout",
     "output_type": "stream",
     "text": [
      "[0 1] [0 4]\n",
      "0.00%\n"
     ]
    },
    {
     "name": "stderr",
     "output_type": "stream",
     "text": [
      "\r",
      "  0%|                             | 4/1000 [04:11<17:26:10, 63.02s/it]"
     ]
    },
    {
     "name": "stdout",
     "output_type": "stream",
     "text": [
      "[1 2] [3 8]\n",
      "0.00%\n"
     ]
    },
    {
     "name": "stderr",
     "output_type": "stream",
     "text": [
      "\r",
      "  0%|▏                            | 5/1000 [05:14<17:24:39, 62.99s/it]"
     ]
    },
    {
     "name": "stdout",
     "output_type": "stream",
     "text": [
      "[2 1] [2 3]\n",
      "0.00%\n"
     ]
    },
    {
     "name": "stderr",
     "output_type": "stream",
     "text": [
      "\r",
      "  1%|▏                            | 6/1000 [06:16<17:19:56, 62.77s/it]"
     ]
    },
    {
     "name": "stdout",
     "output_type": "stream",
     "text": [
      "[0 1] [0 1]\n",
      "16.67%\n"
     ]
    },
    {
     "name": "stderr",
     "output_type": "stream",
     "text": [
      "\r",
      "  1%|▏                            | 7/1000 [07:18<17:15:03, 62.54s/it]"
     ]
    },
    {
     "name": "stdout",
     "output_type": "stream",
     "text": [
      "[0 1] [0 1]\n",
      "28.57%\n"
     ]
    },
    {
     "name": "stderr",
     "output_type": "stream",
     "text": [
      "\r",
      "  1%|▏                            | 8/1000 [08:21<17:14:14, 62.55s/it]"
     ]
    },
    {
     "name": "stdout",
     "output_type": "stream",
     "text": [
      "[0 2] [0 7]\n",
      "25.00%\n"
     ]
    },
    {
     "name": "stderr",
     "output_type": "stream",
     "text": [
      "\r",
      "  1%|▎                            | 9/1000 [09:24<17:15:19, 62.68s/it]"
     ]
    },
    {
     "name": "stdout",
     "output_type": "stream",
     "text": [
      "[-1  2] [-1  8]\n",
      "22.22%\n"
     ]
    },
    {
     "name": "stderr",
     "output_type": "stream",
     "text": [
      "\r",
      "  1%|▎                           | 10/1000 [10:27<17:16:00, 62.79s/it]"
     ]
    },
    {
     "name": "stdout",
     "output_type": "stream",
     "text": [
      "[2 2] [2 8]\n",
      "20.00%\n"
     ]
    },
    {
     "ename": "KeyboardInterrupt",
     "evalue": "",
     "output_type": "error",
     "traceback": [
      "\u001b[0;31m---------------------------------------------------------------------------\u001b[0m",
      "\u001b[0;31mKeyboardInterrupt\u001b[0m                         Traceback (most recent call last)",
      "\u001b[0;32m<ipython-input-21-e326a914a046>\u001b[0m in \u001b[0;36m<module>\u001b[0;34m\u001b[0m\n\u001b[1;32m     31\u001b[0m     \u001b[0;31m#                 total_prob = pixels_prob * compare_pixels_prob\u001b[0m\u001b[0;34m\u001b[0m\u001b[0;34m\u001b[0m\u001b[0;34m\u001b[0m\u001b[0m\n\u001b[1;32m     32\u001b[0m \u001b[0;34m\u001b[0m\u001b[0m\n\u001b[0;32m---> 33\u001b[0;31m                     \u001b[0mdiff_array\u001b[0m \u001b[0;34m=\u001b[0m \u001b[0mnp\u001b[0m\u001b[0;34m.\u001b[0m\u001b[0marray\u001b[0m\u001b[0;34m(\u001b[0m\u001b[0;34m[\u001b[0m\u001b[0mi\u001b[0m \u001b[0;32mfor\u001b[0m \u001b[0mi\u001b[0m \u001b[0;32min\u001b[0m \u001b[0;34m(\u001b[0m\u001b[0;34m(\u001b[0m\u001b[0mpixels\u001b[0m \u001b[0;34m-\u001b[0m \u001b[0mcompare_pixels\u001b[0m\u001b[0;34m)\u001b[0m\u001b[0;34m)\u001b[0m\u001b[0;34m.\u001b[0m\u001b[0mreshape\u001b[0m\u001b[0;34m(\u001b[0m\u001b[0;34m-\u001b[0m\u001b[0;36m1\u001b[0m\u001b[0;34m,\u001b[0m\u001b[0;36m1\u001b[0m\u001b[0;34m)\u001b[0m \u001b[0;32mif\u001b[0m \u001b[0mi\u001b[0m \u001b[0;34m!=\u001b[0m \u001b[0;36m0\u001b[0m\u001b[0;34m]\u001b[0m\u001b[0;34m)\u001b[0m\u001b[0;34m\u001b[0m\u001b[0;34m\u001b[0m\u001b[0m\n\u001b[0m\u001b[1;32m     34\u001b[0m \u001b[0;34m\u001b[0m\u001b[0m\n\u001b[1;32m     35\u001b[0m                     \u001b[0mdiff\u001b[0m \u001b[0;34m=\u001b[0m \u001b[0mnp\u001b[0m\u001b[0;34m.\u001b[0m\u001b[0msum\u001b[0m\u001b[0;34m(\u001b[0m\u001b[0mnp\u001b[0m\u001b[0;34m.\u001b[0m\u001b[0mpower\u001b[0m\u001b[0;34m(\u001b[0m\u001b[0mdiff_array\u001b[0m\u001b[0;34m,\u001b[0m\u001b[0;36m2\u001b[0m\u001b[0;34m)\u001b[0m\u001b[0;34m)\u001b[0m\u001b[0;34m/\u001b[0m\u001b[0mlen\u001b[0m\u001b[0;34m(\u001b[0m\u001b[0mdiff_array\u001b[0m\u001b[0;34m)\u001b[0m\u001b[0;34m\u001b[0m\u001b[0;34m\u001b[0m\u001b[0m\n",
      "\u001b[0;32m<ipython-input-21-e326a914a046>\u001b[0m in \u001b[0;36m<listcomp>\u001b[0;34m(.0)\u001b[0m\n\u001b[1;32m     31\u001b[0m     \u001b[0;31m#                 total_prob = pixels_prob * compare_pixels_prob\u001b[0m\u001b[0;34m\u001b[0m\u001b[0;34m\u001b[0m\u001b[0;34m\u001b[0m\u001b[0m\n\u001b[1;32m     32\u001b[0m \u001b[0;34m\u001b[0m\u001b[0m\n\u001b[0;32m---> 33\u001b[0;31m                     \u001b[0mdiff_array\u001b[0m \u001b[0;34m=\u001b[0m \u001b[0mnp\u001b[0m\u001b[0;34m.\u001b[0m\u001b[0marray\u001b[0m\u001b[0;34m(\u001b[0m\u001b[0;34m[\u001b[0m\u001b[0mi\u001b[0m \u001b[0;32mfor\u001b[0m \u001b[0mi\u001b[0m \u001b[0;32min\u001b[0m \u001b[0;34m(\u001b[0m\u001b[0;34m(\u001b[0m\u001b[0mpixels\u001b[0m \u001b[0;34m-\u001b[0m \u001b[0mcompare_pixels\u001b[0m\u001b[0;34m)\u001b[0m\u001b[0;34m)\u001b[0m\u001b[0;34m.\u001b[0m\u001b[0mreshape\u001b[0m\u001b[0;34m(\u001b[0m\u001b[0;34m-\u001b[0m\u001b[0;36m1\u001b[0m\u001b[0;34m,\u001b[0m\u001b[0;36m1\u001b[0m\u001b[0;34m)\u001b[0m \u001b[0;32mif\u001b[0m \u001b[0mi\u001b[0m \u001b[0;34m!=\u001b[0m \u001b[0;36m0\u001b[0m\u001b[0;34m]\u001b[0m\u001b[0;34m)\u001b[0m\u001b[0;34m\u001b[0m\u001b[0;34m\u001b[0m\u001b[0m\n\u001b[0m\u001b[1;32m     34\u001b[0m \u001b[0;34m\u001b[0m\u001b[0m\n\u001b[1;32m     35\u001b[0m                     \u001b[0mdiff\u001b[0m \u001b[0;34m=\u001b[0m \u001b[0mnp\u001b[0m\u001b[0;34m.\u001b[0m\u001b[0msum\u001b[0m\u001b[0;34m(\u001b[0m\u001b[0mnp\u001b[0m\u001b[0;34m.\u001b[0m\u001b[0mpower\u001b[0m\u001b[0;34m(\u001b[0m\u001b[0mdiff_array\u001b[0m\u001b[0;34m,\u001b[0m\u001b[0;36m2\u001b[0m\u001b[0;34m)\u001b[0m\u001b[0;34m)\u001b[0m\u001b[0;34m/\u001b[0m\u001b[0mlen\u001b[0m\u001b[0;34m(\u001b[0m\u001b[0mdiff_array\u001b[0m\u001b[0;34m)\u001b[0m\u001b[0;34m\u001b[0m\u001b[0;34m\u001b[0m\u001b[0m\n",
      "\u001b[0;31mKeyboardInterrupt\u001b[0m: "
     ]
    }
   ],
   "source": [
    "result_compare_list = []\n",
    "\n",
    "for _ in tqdm(range(1000), ncols=70):\n",
    "    compare_list = []\n",
    "    scene_num = random.choice(list(scene_dict.keys()))\n",
    "    for num in [scene_num, scene_num + 1]:\n",
    "        file_name = scene_dict[num]['file_name']\n",
    "        verti_pos = scene_dict[num]['verti_pos']\n",
    "        hori_pos = scene_dict[num]['hori_pos']\n",
    "        frame = np.array(cv2.imread(f\"{frame_dir}/{file_name}\"))\n",
    "        compare_list.append([frame, (verti_pos, hori_pos), num])\n",
    "    ground_truth = np.array(compare_list[1][1]) - np.array(compare_list[0][1])\n",
    "\n",
    "    compare_dict = {}\n",
    "    frame = compare_list[0][0]\n",
    "    compare_frame = compare_list[1][0]\n",
    "    for _ in range(32):\n",
    "        while 1:\n",
    "            frame_i, frame_j = random.choice(range(frame.shape[0])), random.choice(range(frame.shape[1]))\n",
    "            pixels = frame[frame_i - n:frame_i + n, frame_j - n:frame_j + n, :]\n",
    "            pixels_prob = calculate_frame_prob(pixels)\n",
    "            if pixels.shape == set_shape and np.sum(pixels_prob) >= set_shape[0] * set_shape[1] * set_shape[2] * 0.8:\n",
    "                break\n",
    "\n",
    "        for i in range(frame_i-m, frame_i+m):\n",
    "            for j in range(frame_j-m, frame_j+m):\n",
    "                compare_pixels = compare_frame[i - n:i + n,j - n:j + n,:]\n",
    "                if pixels.shape == set_shape and compare_pixels.shape == set_shape:\n",
    "    #                 pixels_prob = calculate_frame_prob(pixels)\n",
    "    #                 compare_pixels_prob = calculate_frame_prob(compare_pixels)\n",
    "    #                 total_prob = pixels_prob * compare_pixels_prob\n",
    "\n",
    "                    diff_array = np.array([i for i in ((pixels - compare_pixels)).reshape(-1,1) if i != 0])\n",
    "\n",
    "                    diff = np.sum(np.power(diff_array,2))/len(diff_array)\n",
    "                    compare_dict[(frame_i - i, frame_j - j)] = compare_dict.get((frame_i - i, frame_j - j), []) + [diff]\n",
    "    compare_dict = {k:np.mean(v) for k,v in compare_dict.items()}\n",
    "    compare_dict = {k: v for k, v in sorted(compare_dict.items(), key=lambda item: item[1])}\n",
    "    predict = np.array(list(compare_dict.keys())[0])\n",
    "    result_compare_list.append(list(ground_truth) == list(predict))\n",
    "    print(ground_truth, predict)\n",
    "    print('{:.2f}%'.format(sum(result_compare_list)*100/len(result_compare_list)))\n",
    "    "
   ]
  },
  {
   "cell_type": "code",
   "execution_count": null,
   "metadata": {},
   "outputs": [],
   "source": []
  },
  {
   "cell_type": "code",
   "execution_count": null,
   "metadata": {},
   "outputs": [],
   "source": []
  },
  {
   "cell_type": "code",
   "execution_count": null,
   "metadata": {},
   "outputs": [],
   "source": []
  },
  {
   "cell_type": "code",
   "execution_count": null,
   "metadata": {},
   "outputs": [],
   "source": []
  }
 ],
 "metadata": {
  "kernelspec": {
   "display_name": "Python 3",
   "language": "python",
   "name": "python3"
  },
  "language_info": {
   "codemirror_mode": {
    "name": "ipython",
    "version": 3
   },
   "file_extension": ".py",
   "mimetype": "text/x-python",
   "name": "python",
   "nbconvert_exporter": "python",
   "pygments_lexer": "ipython3",
   "version": "3.7.3"
  }
 },
 "nbformat": 4,
 "nbformat_minor": 2
}
