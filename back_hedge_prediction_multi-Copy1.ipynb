{
 "cells": [
  {
   "cell_type": "code",
   "execution_count": 1,
   "metadata": {},
   "outputs": [],
   "source": [
    "import sys\n",
    "import os\n",
    "import time\n",
    "import pandas as pd\n",
    "import numpy as np\n",
    "import matplotlib.pyplot as plt\n",
    "import cv2\n",
    "from copy import deepcopy\n",
    "from tqdm import tqdm\n",
    "import random\n",
    "from random import shuffle"
   ]
  },
  {
   "cell_type": "code",
   "execution_count": 2,
   "metadata": {},
   "outputs": [],
   "source": [
    "from IPython.display import clear_output\n",
    "from matplotlib import pyplot as plt\n",
    "import collections\n",
    "%matplotlib inline\n",
    "\n",
    "def live_plot(data, figsize=(16,8), title=''):\n",
    "    clear_output(wait=True)\n",
    "    plt.figure(figsize=figsize)\n",
    "    plt.imshow(convert_to_rgb(data.astype(int)))\n",
    "    plt.title(title)\n",
    "    plt.show()\n",
    "\n",
    "def convert_to_rgb(img):\n",
    "    img = deepcopy(img)\n",
    "    b,g,r = cv2.split(img)  \n",
    "    img = cv2.merge([r,g,b])\n",
    "    return img"
   ]
  },
  {
   "cell_type": "code",
   "execution_count": 3,
   "metadata": {},
   "outputs": [],
   "source": [
    "frame_dir = '../scene_data/70'\n",
    "frame_bt_dir = '../scene_data/70_back_true'"
   ]
  },
  {
   "cell_type": "code",
   "execution_count": 4,
   "metadata": {},
   "outputs": [],
   "source": [
    "scene_dict = {}\n",
    "for file_name in os.listdir(frame_dir):\n",
    "    if file_name[0] != '.':\n",
    "        num, verti_pos, hori_pos, real_back_prob = file_name.replace('.jpg', '').split('_')\n",
    "        scene_dict[int(num)] = {'file_name': file_name, 'num':num, 'verti_pos':int(verti_pos), 'hori_pos':int(hori_pos)}"
   ]
  },
  {
   "cell_type": "code",
   "execution_count": 5,
   "metadata": {},
   "outputs": [],
   "source": [
    "scene_bt_dict = {}\n",
    "for file_name in os.listdir(frame_bt_dir):\n",
    "    if file_name[0] != '.':\n",
    "        num, verti_pos, hori_pos, real_back_prob = file_name.replace('.npy', '').split('_')\n",
    "        scene_bt_dict[int(num)] = {'file_name': file_name, 'num':num, 'verti_pos':int(verti_pos), 'hori_pos':int(hori_pos)}"
   ]
  },
  {
   "cell_type": "code",
   "execution_count": 6,
   "metadata": {},
   "outputs": [
    {
     "name": "stderr",
     "output_type": "stream",
     "text": [
      "100%|███████████████████████████████| 499/499 [48:40<00:00,  5.85s/it]\n",
      "100%|█████████████████████| 398701/398701 [00:01<00:00, 247053.20it/s]\n",
      "100%|███████████████████████████████| 499/499 [48:03<00:00,  5.78s/it]\n",
      "100%|█████████████████████| 398701/398701 [00:01<00:00, 223822.40it/s]\n",
      "100%|███████████████████████████████| 499/499 [47:50<00:00,  5.75s/it]\n",
      "100%|█████████████████████| 398701/398701 [00:01<00:00, 213937.60it/s]\n",
      "100%|███████████████████████████████| 499/499 [48:17<00:00,  5.81s/it]\n",
      "100%|█████████████████████| 398701/398701 [00:01<00:00, 237381.91it/s]\n",
      "100%|███████████████████████████████| 499/499 [48:21<00:00,  5.81s/it]\n",
      "100%|█████████████████████| 398701/398701 [00:01<00:00, 229793.43it/s]\n",
      "100%|███████████████████████████████| 499/499 [48:14<00:00,  5.80s/it]\n",
      "100%|█████████████████████| 398701/398701 [00:01<00:00, 240765.82it/s]\n",
      "100%|███████████████████████████████| 499/499 [48:18<00:00,  5.81s/it]\n",
      "100%|█████████████████████| 398701/398701 [00:02<00:00, 182220.18it/s]\n",
      "100%|███████████████████████████████| 499/499 [48:15<00:00,  5.80s/it]\n",
      "100%|█████████████████████| 398701/398701 [00:02<00:00, 171377.48it/s]\n",
      "100%|███████████████████████████████| 499/499 [48:00<00:00,  5.77s/it]\n",
      "100%|█████████████████████| 398701/398701 [00:01<00:00, 294735.34it/s]\n",
      "100%|███████████████████████████████| 499/499 [47:57<00:00,  5.77s/it]\n",
      "100%|█████████████████████| 398701/398701 [00:02<00:00, 194436.24it/s]\n"
     ]
    }
   ],
   "source": [
    "scene_num_0 = random.choice(sorted(list(scene_dict.keys()))[5:-5])\n",
    "file_name_0 = scene_dict[scene_num_0]['file_name']\n",
    "file_name_bt_0 = scene_bt_dict[scene_num_0]['file_name']\n",
    "frame_0 = cv2.imread(f\"{frame_dir}/{file_name_0}\")\n",
    "frame_bt_0 = np.load(f\"{frame_bt_dir}/{file_name_bt_0}\").astype(int)\n",
    "\n",
    "n = 1\n",
    "m_num = 3 + 2 * 5\n",
    "set_shape = (n*2, n*2, 3)\n",
    "\n",
    "compare_frame_dict = {}\n",
    "\n",
    "for i in range(-5,6):\n",
    "    if i == 0:\n",
    "        continue\n",
    "    compare_frame_dict[i] = {}\n",
    "    scene_num = scene_num_0 + i\n",
    "    file_name = scene_dict[scene_num]['file_name']\n",
    "    file_name_bt = scene_bt_dict[scene_num]['file_name']\n",
    "    \n",
    "    abs_pos_0 = np.array((scene_dict[scene_num_0]['verti_pos'], scene_dict[scene_num_0]['hori_pos']))\n",
    "    abs_pos_1 = np.array((scene_dict[scene_num]['verti_pos'], scene_dict[scene_num]['hori_pos']))\n",
    "    \n",
    "    frame_1 = cv2.imread(f\"{frame_dir}/{file_name}\")\n",
    "    frame_bt_1 = np.load(f\"{frame_bt_dir}/{file_name_bt}\").astype(int)\n",
    "    compare_frame_dict[i]['euclidean_dis'] = np.sqrt(np.sum(np.power(abs_pos_1 - abs_pos_0, 2)/2))\n",
    "    \n",
    "    compare_dict = {}\n",
    "    for s0 in tqdm(range(n, frame_0.shape[0]), ncols=70):\n",
    "        for s1 in range(n, frame_0.shape[1]):\n",
    "            segment_0 = frame_0[s0-n:s0+n, s1-n:s1+n, :]\n",
    "            if segment_0.shape == set_shape:\n",
    "                temp_compare = {}\n",
    "                for m1 in range(-m_num, m_num+1):\n",
    "                    for m2 in range(-m_num, m_num+1):\n",
    "                        compare_1 = frame_1[max(s0-n+m1,0):max(s0+n+m1,0), max(s1-n+m2,0):max(s1+n+m2,0), :]\n",
    "                        if compare_1.shape == set_shape:\n",
    "                            diff_array = segment_0 - compare_1\n",
    "                            diff = np.sum(np.power(diff_array,2))/len(diff_array)\n",
    "                            temp_compare[(m1,m2)] = diff\n",
    "                temp_compare = {k: v for k, v in sorted(temp_compare.items(), key=lambda item: item[1])}\n",
    "                compare_dict[(s0,s1)] = np.array(list(temp_compare.keys())[0])\n",
    "\n",
    "    compare_mean_dict = {}\n",
    "    for key in tqdm(compare_dict, ncols=70):\n",
    "        compare_mean_dict[key] = []\n",
    "        s0, s1 = key\n",
    "        for c0 in range(s0-n,s0+n):\n",
    "            for c1 in range(s1-n, s1+n):\n",
    "                if (c0, c1) in compare_dict:\n",
    "                    compare_mean_dict[key].append(compare_dict[(c0, c1)])\n",
    "    compare_frame_dict[i]['compare_mean_dict'] = compare_mean_dict"
   ]
  },
  {
   "cell_type": "code",
   "execution_count": null,
   "metadata": {},
   "outputs": [],
   "source": []
  },
  {
   "cell_type": "code",
   "execution_count": null,
   "metadata": {},
   "outputs": [],
   "source": []
  },
  {
   "cell_type": "code",
   "execution_count": 7,
   "metadata": {},
   "outputs": [
    {
     "name": "stderr",
     "output_type": "stream",
     "text": [
      "100%|██████████████████████| 398701/398701 [00:07<00:00, 51946.19it/s]\n",
      "100%|██████████████████████| 398701/398701 [00:08<00:00, 49112.10it/s]\n",
      "100%|██████████████████████| 398701/398701 [00:08<00:00, 49572.90it/s]\n",
      "100%|██████████████████████| 398701/398701 [00:08<00:00, 48790.19it/s]\n",
      "100%|██████████████████████| 398701/398701 [00:08<00:00, 49759.19it/s]\n",
      "100%|██████████████████████| 398701/398701 [00:07<00:00, 50297.95it/s]\n",
      "100%|██████████████████████| 398701/398701 [00:08<00:00, 47194.66it/s]\n",
      "100%|██████████████████████| 398701/398701 [00:09<00:00, 40460.45it/s]\n",
      "100%|██████████████████████| 398701/398701 [00:11<00:00, 33312.28it/s]\n",
      "100%|██████████████████████| 398701/398701 [00:09<00:00, 40676.71it/s]\n"
     ]
    }
   ],
   "source": [
    "for i in compare_frame_dict:\n",
    "    compare_mean_dict = compare_frame_dict[i]['compare_mean_dict']\n",
    "    euclidean_dis = compare_frame_dict[i]['euclidean_dis']\n",
    "    \n",
    "    for key in tqdm(compare_mean_dict, ncols=70):\n",
    "        compare_mean_dict[key] = np.mean(compare_mean_dict[key], axis=0)\n",
    "        compare_mean_dict[key] = np.sqrt(np.sum(np.power(compare_mean_dict[key], 2)/2))"
   ]
  },
  {
   "cell_type": "code",
   "execution_count": null,
   "metadata": {},
   "outputs": [],
   "source": []
  },
  {
   "cell_type": "code",
   "execution_count": 8,
   "metadata": {},
   "outputs": [
    {
     "name": "stderr",
     "output_type": "stream",
     "text": [
      "100%|██████████| 10/10 [00:11<00:00,  1.10s/it]\n"
     ]
    }
   ],
   "source": [
    "for i in tqdm(compare_frame_dict):\n",
    "    compare_mean_dict = compare_frame_dict[i]['compare_mean_dict']\n",
    "    euclidean_dis = compare_frame_dict[i]['euclidean_dis']\n",
    "\n",
    "    back_compare_mean_dict = {k: v for k, v in sorted(compare_mean_dict.items(), key=lambda item: item[1]) if v <= euclidean_dis}\n",
    "    hedge_compare_mean_dict = {k: v for k, v in sorted(compare_mean_dict.items(), key=lambda item: item[1]) if v > euclidean_dis}\n",
    "    compare_frame_dict[i]['back'] = back_compare_mean_dict\n",
    "    compare_frame_dict[i]['hedge'] = hedge_compare_mean_dict"
   ]
  },
  {
   "cell_type": "code",
   "execution_count": 9,
   "metadata": {},
   "outputs": [],
   "source": [
    "# i = -1"
   ]
  },
  {
   "cell_type": "code",
   "execution_count": 10,
   "metadata": {},
   "outputs": [],
   "source": [
    "# compare_frame_dict[i]['back']"
   ]
  },
  {
   "cell_type": "code",
   "execution_count": 1,
   "metadata": {},
   "outputs": [
    {
     "ename": "NameError",
     "evalue": "name 'compare_frame_dict' is not defined",
     "output_type": "error",
     "traceback": [
      "\u001b[0;31m---------------------------------------------------------------------------\u001b[0m",
      "\u001b[0;31mNameError\u001b[0m                                 Traceback (most recent call last)",
      "\u001b[0;32m<ipython-input-1-edbb03e77083>\u001b[0m in \u001b[0;36m<module>\u001b[0;34m\u001b[0m\n\u001b[1;32m      1\u001b[0m \u001b[0mback_compare_mean_dict\u001b[0m \u001b[0;34m=\u001b[0m \u001b[0;34m{\u001b[0m\u001b[0;34m}\u001b[0m\u001b[0;34m\u001b[0m\u001b[0;34m\u001b[0m\u001b[0m\n\u001b[1;32m      2\u001b[0m \u001b[0mhedge_compare_mean_dict\u001b[0m \u001b[0;34m=\u001b[0m \u001b[0;34m{\u001b[0m\u001b[0;34m}\u001b[0m\u001b[0;34m\u001b[0m\u001b[0;34m\u001b[0m\u001b[0m\n\u001b[0;32m----> 3\u001b[0;31m \u001b[0;32mfor\u001b[0m \u001b[0mi\u001b[0m \u001b[0;32min\u001b[0m \u001b[0mcompare_frame_dict\u001b[0m\u001b[0;34m:\u001b[0m\u001b[0;34m\u001b[0m\u001b[0;34m\u001b[0m\u001b[0m\n\u001b[0m\u001b[1;32m      4\u001b[0m     \u001b[0;32mif\u001b[0m \u001b[0mlen\u001b[0m\u001b[0;34m(\u001b[0m\u001b[0mback_compare_mean_dict\u001b[0m\u001b[0;34m)\u001b[0m\u001b[0;34m:\u001b[0m\u001b[0;34m\u001b[0m\u001b[0;34m\u001b[0m\u001b[0m\n\u001b[1;32m      5\u001b[0m         \u001b[0mback_compare_mean_dict\u001b[0m \u001b[0;34m=\u001b[0m \u001b[0;34m{\u001b[0m\u001b[0mk\u001b[0m\u001b[0;34m:\u001b[0m\u001b[0mv\u001b[0m \u001b[0;32mfor\u001b[0m \u001b[0mk\u001b[0m\u001b[0;34m,\u001b[0m \u001b[0mv\u001b[0m \u001b[0;32min\u001b[0m \u001b[0mback_compare_mean_dict\u001b[0m\u001b[0;34m.\u001b[0m\u001b[0mitems\u001b[0m\u001b[0;34m(\u001b[0m\u001b[0;34m)\u001b[0m \u001b[0;32mif\u001b[0m \u001b[0mk\u001b[0m \u001b[0;32min\u001b[0m \u001b[0mcompare_frame_dict\u001b[0m\u001b[0;34m[\u001b[0m\u001b[0mi\u001b[0m\u001b[0;34m]\u001b[0m\u001b[0;34m[\u001b[0m\u001b[0;34m'back'\u001b[0m\u001b[0;34m]\u001b[0m\u001b[0;34m}\u001b[0m\u001b[0;34m\u001b[0m\u001b[0;34m\u001b[0m\u001b[0m\n",
      "\u001b[0;31mNameError\u001b[0m: name 'compare_frame_dict' is not defined"
     ]
    }
   ],
   "source": [
    "back_compare_mean_dict = {}\n",
    "hedge_compare_mean_dict = {}\n",
    "for i in compare_frame_dict:\n",
    "    if len(back_compare_mean_dict):\n",
    "        back_compare_mean_dict = {k:v for k, v in back_compare_mean_dict.items() if k in compare_frame_dict[i]['back']}\n",
    "    else:\n",
    "        back_compare_mean_dict = compare_frame_dict[i]['back']\n",
    "        \n",
    "    if len(hedge_compare_mean_dict):\n",
    "        hedge_compare_mean_dict = {k:v for k, v in hedge_compare_mean_dict.items() if k in compare_frame_dict[i]['hedge']}\n",
    "    else:\n",
    "        hedge_compare_mean_dict = compare_frame_dict[i]['hedge']\n",
    "    \n",
    "    back_accurate_list = []\n",
    "    for i, j in back_compare_mean_dict:\n",
    "        if sum(frame_bt_0[i][j])==3:\n",
    "            back_accurate_list.append(1)\n",
    "        else:\n",
    "            back_accurate_list.append(0)\n",
    "    print('back_accuracy', sum(back_accurate_list)/len(back_accurate_list), len(back_accurate_list))\n",
    "    \n",
    "    hedge_accurate_list = []\n",
    "    for i, j in hedge_compare_mean_dict:\n",
    "        if sum(frame_bt_0[i][j]) == 0:\n",
    "            hedge_accurate_list.append(1)\n",
    "        else:\n",
    "            hedge_accurate_list.append(0)\n",
    "#     print('hedge_accuracy', sum(hedge_accurate_list)/len(hedge_accurate_list), len(hedge_accurate_list))"
   ]
  },
  {
   "cell_type": "code",
   "execution_count": 12,
   "metadata": {},
   "outputs": [],
   "source": [
    "# i = 2"
   ]
  },
  {
   "cell_type": "code",
   "execution_count": 13,
   "metadata": {},
   "outputs": [],
   "source": [
    "# back_compare_mean_dict = compare_frame_dict[i]['back']\n",
    "# hedge_compare_mean_dict = compare_frame_dict[i]['hedge']"
   ]
  },
  {
   "cell_type": "code",
   "execution_count": 18,
   "metadata": {},
   "outputs": [
    {
     "name": "stdout",
     "output_type": "stream",
     "text": [
      "0.48908595508470276\n",
      "0.4862446511441027\n",
      "0.48613044799536387\n",
      "0.48867707886618617\n",
      "0.48935751993709986\n",
      "0.4880249081909628\n",
      "0.48958964349016176\n",
      "0.516810562516534\n",
      "0.5110008605211996\n",
      "0.5059797925573727\n"
     ]
    }
   ],
   "source": [
    "for i in range(-5, 6):\n",
    "    if i == 0:\n",
    "        continue\n",
    "    back_compare_mean_dict = compare_frame_dict[i]['back']\n",
    "    back_accurate_list = []\n",
    "    for i, j in back_compare_mean_dict:\n",
    "        if sum(frame_bt_1[i][j])==3:\n",
    "            back_accurate_list.append(1)\n",
    "        else:\n",
    "            back_accurate_list.append(0)\n",
    "    print(sum(back_accurate_list)/len(back_accurate_list))\n",
    "    \n",
    "    "
   ]
  },
  {
   "cell_type": "code",
   "execution_count": 19,
   "metadata": {},
   "outputs": [
    {
     "name": "stdout",
     "output_type": "stream",
     "text": [
      "0.5076993104516929\n",
      "0.5039782132749506\n",
      "0.5079975428064882\n",
      "0.5098065646694075\n",
      "0.5100264673399635\n",
      "0.5098844438044655\n",
      "0.509986787655988\n",
      "0.5171690345725884\n",
      "0.528941328530766\n",
      "0.5404550925993068\n"
     ]
    }
   ],
   "source": [
    "for i in range(-5, 6):\n",
    "    if i == 0:\n",
    "        continue\n",
    "    hedge_compare_mean_dict = compare_frame_dict[i]['hedge']\n",
    "    hedge_accurate_list = []\n",
    "    for i, j in hedge_compare_mean_dict:\n",
    "        if sum(frame_bt_1[i][j]) == 0:\n",
    "            hedge_accurate_list.append(1)\n",
    "        else:\n",
    "            hedge_accurate_list.append(0)\n",
    "    print(sum(hedge_accurate_list)/len(hedge_accurate_list))"
   ]
  },
  {
   "cell_type": "code",
   "execution_count": null,
   "metadata": {},
   "outputs": [],
   "source": []
  },
  {
   "cell_type": "code",
   "execution_count": null,
   "metadata": {},
   "outputs": [],
   "source": []
  },
  {
   "cell_type": "code",
   "execution_count": 14,
   "metadata": {},
   "outputs": [
    {
     "name": "stdout",
     "output_type": "stream",
     "text": [
      "0.6046511627906976\n"
     ]
    }
   ],
   "source": [
    "back_accurate_list = []\n",
    "for i, j in back_compare_mean_dict:\n",
    "    if sum(frame_bt_1[i][j])==3:\n",
    "        back_accurate_list.append(1)\n",
    "    else:\n",
    "        back_accurate_list.append(0)\n",
    "print(sum(back_accurate_list)/len(back_accurate_list))"
   ]
  },
  {
   "cell_type": "code",
   "execution_count": 15,
   "metadata": {},
   "outputs": [
    {
     "name": "stdout",
     "output_type": "stream",
     "text": [
      "0.5296142433234421\n"
     ]
    }
   ],
   "source": [
    "hedge_accurate_list = []\n",
    "for i, j in hedge_compare_mean_dict:\n",
    "    if sum(frame_bt_1[i][j]) == 0:\n",
    "        hedge_accurate_list.append(1)\n",
    "    else:\n",
    "        hedge_accurate_list.append(0)\n",
    "print(sum(hedge_accurate_list)/len(hedge_accurate_list))"
   ]
  },
  {
   "cell_type": "code",
   "execution_count": 16,
   "metadata": {},
   "outputs": [
    {
     "data": {
      "text/plain": [
       "(172, 8425)"
      ]
     },
     "execution_count": 16,
     "metadata": {},
     "output_type": "execute_result"
    }
   ],
   "source": [
    "len(back_accurate_list), len(hedge_accurate_list)"
   ]
  },
  {
   "cell_type": "code",
   "execution_count": null,
   "metadata": {},
   "outputs": [],
   "source": []
  }
 ],
 "metadata": {
  "kernelspec": {
   "display_name": "Python 3",
   "language": "python",
   "name": "python3"
  },
  "language_info": {
   "codemirror_mode": {
    "name": "ipython",
    "version": 3
   },
   "file_extension": ".py",
   "mimetype": "text/x-python",
   "name": "python",
   "nbconvert_exporter": "python",
   "pygments_lexer": "ipython3",
   "version": "3.7.6"
  }
 },
 "nbformat": 4,
 "nbformat_minor": 2
}
