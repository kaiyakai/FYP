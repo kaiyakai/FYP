{
 "cells": [
  {
   "cell_type": "code",
   "execution_count": 1,
   "metadata": {},
   "outputs": [],
   "source": [
    "import sys\n",
    "import os\n",
    "import time\n",
    "import pandas as pd\n",
    "import numpy as np\n",
    "import matplotlib.pyplot as plt\n",
    "import cv2\n",
    "from copy import deepcopy\n",
    "from tqdm import tqdm\n",
    "import random\n",
    "from random import shuffle"
   ]
  },
  {
   "cell_type": "code",
   "execution_count": 2,
   "metadata": {},
   "outputs": [],
   "source": [
    "from IPython.display import clear_output\n",
    "from matplotlib import pyplot as plt\n",
    "import collections\n",
    "%matplotlib inline\n",
    "\n",
    "def live_plot(data, figsize=(16,8), title=''):\n",
    "    clear_output(wait=True)\n",
    "    plt.figure(figsize=figsize)\n",
    "    plt.imshow(convert_to_rgb(data.astype(int)))\n",
    "    plt.title(title)\n",
    "    plt.show()\n",
    "\n",
    "def convert_to_rgb(img):\n",
    "    img = deepcopy(img)\n",
    "    b,g,r = cv2.split(img)  \n",
    "    img = cv2.merge([r,g,b])\n",
    "    return img"
   ]
  },
  {
   "cell_type": "code",
   "execution_count": 3,
   "metadata": {},
   "outputs": [],
   "source": [
    "file_num = 90\n",
    "frame_dir = f'../scene_data/{file_num}'\n",
    "frame_bt_dir = f'../scene_data/{file_num}_back_true'"
   ]
  },
  {
   "cell_type": "code",
   "execution_count": 4,
   "metadata": {},
   "outputs": [],
   "source": [
    "scene_dict = {}\n",
    "for file_name in os.listdir(frame_dir):\n",
    "    if file_name[0] != '.':\n",
    "        num, verti_pos, hori_pos, real_back_prob = file_name.replace('.jpg', '').split('_')\n",
    "        scene_dict[int(num)] = {'file_name': file_name, 'num':num, 'verti_pos':int(verti_pos), 'hori_pos':int(hori_pos)}"
   ]
  },
  {
   "cell_type": "code",
   "execution_count": 5,
   "metadata": {},
   "outputs": [],
   "source": [
    "scene_bt_dict = {}\n",
    "for file_name in os.listdir(frame_bt_dir):\n",
    "    if file_name[0] != '.':\n",
    "        num, verti_pos, hori_pos, real_back_prob = file_name.replace('.npy', '').split('_')\n",
    "        scene_bt_dict[int(num)] = {'file_name': file_name, 'num':num, 'verti_pos':int(verti_pos), 'hori_pos':int(hori_pos)}"
   ]
  },
  {
   "cell_type": "code",
   "execution_count": 6,
   "metadata": {},
   "outputs": [
    {
     "name": "stderr",
     "output_type": "stream",
     "text": [
      "100%|█████████████████████████████| 499/499 [3:01:38<00:00, 21.84s/it]\n",
      "100%|█████████████████████| 398701/398701 [00:01<00:00, 211621.92it/s]\n",
      "100%|█████████████████████████████| 499/499 [2:05:34<00:00, 15.10s/it]\n",
      "100%|█████████████████████| 398701/398701 [00:02<00:00, 168372.95it/s]\n",
      "100%|█████████████████████████████| 499/499 [1:18:25<00:00,  9.43s/it]\n",
      "100%|█████████████████████| 398701/398701 [00:01<00:00, 235941.84it/s]\n",
      "100%|███████████████████████████████| 499/499 [43:19<00:00,  5.21s/it]\n",
      "100%|█████████████████████| 398701/398701 [00:01<00:00, 231211.11it/s]\n",
      "100%|███████████████████████████████| 499/499 [18:37<00:00,  2.24s/it]\n",
      "100%|█████████████████████| 398701/398701 [00:01<00:00, 297526.22it/s]\n",
      "100%|███████████████████████████████| 499/499 [18:35<00:00,  2.23s/it]\n",
      "100%|█████████████████████| 398701/398701 [00:01<00:00, 205608.91it/s]\n",
      "100%|███████████████████████████████| 499/499 [43:14<00:00,  5.20s/it]\n",
      "100%|█████████████████████| 398701/398701 [00:02<00:00, 184293.28it/s]\n",
      "100%|█████████████████████████████| 499/499 [1:18:23<00:00,  9.43s/it]\n",
      "100%|█████████████████████| 398701/398701 [00:01<00:00, 283112.86it/s]\n",
      "100%|█████████████████████████████| 499/499 [2:06:16<00:00, 15.18s/it]\n",
      "100%|█████████████████████| 398701/398701 [00:01<00:00, 276659.25it/s]\n",
      "100%|█████████████████████████████| 499/499 [3:01:28<00:00, 21.82s/it]\n",
      "100%|█████████████████████| 398701/398701 [00:01<00:00, 283884.19it/s]\n"
     ]
    }
   ],
   "source": [
    "scene_num_0 = random.choice(sorted(list(scene_dict.keys()))[5:-5])\n",
    "file_name_0 = scene_dict[scene_num_0]['file_name']\n",
    "file_name_bt_0 = scene_bt_dict[scene_num_0]['file_name']\n",
    "frame_0 = cv2.imread(f\"{frame_dir}/{file_name_0}\")\n",
    "frame_bt_0 = np.load(f\"{frame_bt_dir}/{file_name_bt_0}\").astype(int)\n",
    "\n",
    "n = 1\n",
    "\n",
    "set_shape = (n*2, n*2, 3)\n",
    "\n",
    "compare_frame_dict = {}\n",
    "\n",
    "for i in range(-5,6):\n",
    "    if i == 0:\n",
    "        continue\n",
    "    m_num = 3 + 4 * abs(i)\n",
    "    compare_frame_dict[i] = {}\n",
    "    scene_num = scene_num_0 + i\n",
    "    file_name = scene_dict[scene_num]['file_name']\n",
    "    file_name_bt = scene_bt_dict[scene_num]['file_name']\n",
    "    \n",
    "    abs_pos_0 = np.array((scene_dict[scene_num_0]['verti_pos'], scene_dict[scene_num_0]['hori_pos']))\n",
    "    abs_pos_1 = np.array((scene_dict[scene_num]['verti_pos'], scene_dict[scene_num]['hori_pos']))\n",
    "    \n",
    "    frame_1 = cv2.imread(f\"{frame_dir}/{file_name}\")\n",
    "    frame_bt_1 = np.load(f\"{frame_bt_dir}/{file_name_bt}\").astype(int)\n",
    "    compare_frame_dict[i]['euclidean_dis'] = np.sqrt(np.sum(np.power(abs_pos_1 - abs_pos_0, 2)/2))\n",
    "    \n",
    "    compare_dict = {}\n",
    "    for s0 in tqdm(range(n, frame_0.shape[0]), ncols=70):\n",
    "        for s1 in range(n, frame_0.shape[1]):\n",
    "            segment_0 = frame_0[s0-n:s0+n, s1-n:s1+n, :]\n",
    "            if segment_0.shape == set_shape:\n",
    "                temp_compare = {}\n",
    "                for m1 in range(-m_num, m_num+1):\n",
    "                    for m2 in range(-m_num, m_num+1):\n",
    "                        compare_1 = frame_1[max(s0-n+m1,0):max(s0+n+m1,0), max(s1-n+m2,0):max(s1+n+m2,0), :]\n",
    "                        if compare_1.shape == set_shape:\n",
    "                            diff_array = segment_0 - compare_1\n",
    "                            diff = np.sum(np.power(diff_array,2))/len(diff_array)\n",
    "                            temp_compare[(m1,m2)] = diff\n",
    "                temp_compare = {k: v for k, v in sorted(temp_compare.items(), key=lambda item: item[1])}\n",
    "                compare_dict[(s0,s1)] = np.array(list(temp_compare.keys())[0])\n",
    "\n",
    "    compare_mean_dict = {}\n",
    "    for key in tqdm(compare_dict, ncols=70):\n",
    "        compare_mean_dict[key] = []\n",
    "        s0, s1 = key\n",
    "        for c0 in range(s0-n,s0+n):\n",
    "            for c1 in range(s1-n, s1+n):\n",
    "                if (c0, c1) in compare_dict:\n",
    "                    compare_mean_dict[key].append(compare_dict[(c0, c1)])\n",
    "    compare_frame_dict[i]['compare_mean_dict'] = compare_mean_dict"
   ]
  },
  {
   "cell_type": "code",
   "execution_count": 7,
   "metadata": {},
   "outputs": [],
   "source": [
    "np.save(f'{file_num}_hedge_back.npy', compare_frame_dict)\n",
    "np.save(f'{file_num}_hedge_back_frame_bt_0.npy', frame_bt_0)"
   ]
  },
  {
   "cell_type": "code",
   "execution_count": null,
   "metadata": {},
   "outputs": [],
   "source": []
  },
  {
   "cell_type": "code",
   "execution_count": 8,
   "metadata": {},
   "outputs": [
    {
     "name": "stderr",
     "output_type": "stream",
     "text": [
      "100%|██████████████████████| 398701/398701 [00:12<00:00, 33049.68it/s]\n",
      "100%|██████████████████████| 398701/398701 [00:11<00:00, 34630.49it/s]\n",
      "100%|██████████████████████| 398701/398701 [00:11<00:00, 34245.13it/s]\n",
      "100%|██████████████████████| 398701/398701 [00:11<00:00, 33871.98it/s]\n",
      "100%|██████████████████████| 398701/398701 [00:11<00:00, 34407.89it/s]\n",
      "100%|██████████████████████| 398701/398701 [00:11<00:00, 34937.50it/s]\n",
      "100%|██████████████████████| 398701/398701 [00:11<00:00, 34967.34it/s]\n",
      "100%|██████████████████████| 398701/398701 [00:11<00:00, 35288.60it/s]\n",
      "100%|██████████████████████| 398701/398701 [00:11<00:00, 33673.52it/s]\n",
      "100%|██████████████████████| 398701/398701 [00:12<00:00, 31874.68it/s]\n"
     ]
    }
   ],
   "source": [
    "for i in compare_frame_dict:\n",
    "    compare_mean_dict = compare_frame_dict[i]['compare_mean_dict']\n",
    "    euclidean_dis = compare_frame_dict[i]['euclidean_dis']\n",
    "    \n",
    "    for key in tqdm(compare_mean_dict, ncols=70):\n",
    "        compare_mean_dict[key] = np.mean(compare_mean_dict[key], axis=0)\n",
    "        compare_mean_dict[key] = np.sqrt(np.sum(np.power(compare_mean_dict[key], 2)/2))"
   ]
  },
  {
   "cell_type": "code",
   "execution_count": null,
   "metadata": {},
   "outputs": [],
   "source": []
  },
  {
   "cell_type": "code",
   "execution_count": 32,
   "metadata": {},
   "outputs": [
    {
     "name": "stderr",
     "output_type": "stream",
     "text": [
      "100%|██████████| 10/10 [00:12<00:00,  1.20s/it]\n"
     ]
    }
   ],
   "source": [
    "for i in tqdm(compare_frame_dict):\n",
    "    compare_mean_dict = compare_frame_dict[i]['compare_mean_dict']\n",
    "    euclidean_dis = compare_frame_dict[i]['euclidean_dis']\n",
    "    \n",
    "    sorted_compare_mean_dict = {k: v for k, v in sorted(compare_mean_dict.items(), key=lambda item: item[1])}\n",
    "    \n",
    "    back_keys = list(sorted_compare_mean_dict.keys())[:int(len(sorted_compare_mean_dict)*0.86)]\n",
    "    hedge_keys = list(sorted_compare_mean_dict.keys())[int(len(sorted_compare_mean_dict)*0.86):]\n",
    "    \n",
    "    back_compare_mean_dict = {k: compare_mean_dict[k] for k in back_keys}\n",
    "    hedge_compare_mean_dict = {k: compare_mean_dict[k] for k in hedge_keys}\n",
    "    \n",
    "    compare_frame_dict[i]['back'] = back_compare_mean_dict\n",
    "    compare_frame_dict[i]['hedge'] = hedge_compare_mean_dict"
   ]
  },
  {
   "cell_type": "code",
   "execution_count": 29,
   "metadata": {},
   "outputs": [],
   "source": [
    "# i = -1"
   ]
  },
  {
   "cell_type": "code",
   "execution_count": 30,
   "metadata": {},
   "outputs": [],
   "source": [
    "# compare_frame_dict[i]['back']"
   ]
  },
  {
   "cell_type": "code",
   "execution_count": 35,
   "metadata": {},
   "outputs": [
    {
     "name": "stdout",
     "output_type": "stream",
     "text": [
      "back_accuracy 0.8871040182920071 342882\n",
      "hedge_accuracy 0.25734964796932946 55819\n",
      "back_accuracy 0.8969048459547952 308773\n",
      "hedge_accuracy 0.31501612160294795 21710\n",
      "back_accuracy 0.9173126707638027 278894\n",
      "hedge_accuracy 0.42001777382803823 9002\n",
      "back_accuracy 0.9209667367765054 256740\n",
      "hedge_accuracy 0.5569242996224916 5033\n",
      "back_accuracy 0.9366098712647 235289\n",
      "hedge_accuracy 0.7568117120780805 2459\n",
      "back_accuracy 0.9405490623959759 216296\n",
      "hedge_accuracy 0.9331698344573881 1631\n",
      "back_accuracy 0.9432583842429466 197245\n",
      "hedge_accuracy 0.958656330749354 774\n",
      "back_accuracy 0.9489771533686416 179939\n",
      "hedge_accuracy 0.9562043795620438 411\n",
      "back_accuracy 0.9501972565058453 165774\n",
      "hedge_accuracy 0.9825174825174825 286\n",
      "back_accuracy 0.952120824697002 154869\n",
      "hedge_accuracy 0.9896907216494846 194\n"
     ]
    },
    {
     "data": {
      "image/png": "[encoded data removed]",
      "text/plain": [
       "<Figure size 576x432 with 1 Axes>"
      ]
     },
     "metadata": {
      "needs_background": "light"
     },
     "output_type": "display_data"
    }
   ],
   "source": [
    "back_compare_mean_dict = {}\n",
    "hedge_compare_mean_dict = {}\n",
    "back_acc_list = []\n",
    "back_count_list = []\n",
    "hedge_acc_list = []\n",
    "hedge_count_list = []\n",
    "for i in compare_frame_dict:\n",
    "    if len(back_compare_mean_dict):\n",
    "        back_compare_mean_dict = {k:v for k, v in back_compare_mean_dict.items() if k in compare_frame_dict[i]['back']}\n",
    "    else:\n",
    "        back_compare_mean_dict = compare_frame_dict[i]['back']\n",
    "        \n",
    "    if len(hedge_compare_mean_dict):\n",
    "        hedge_compare_mean_dict = {k:v for k, v in hedge_compare_mean_dict.items() if k in compare_frame_dict[i]['hedge']}\n",
    "    else:\n",
    "        hedge_compare_mean_dict = compare_frame_dict[i]['hedge']\n",
    "    \n",
    "    back_accurate_list = []\n",
    "    for i, j in back_compare_mean_dict:\n",
    "        if sum(frame_bt_0[i][j])==3:\n",
    "            back_accurate_list.append(1)\n",
    "        else:\n",
    "            back_accurate_list.append(0)\n",
    "    print('back_accuracy', sum(back_accurate_list)/len(back_accurate_list), len(back_accurate_list))\n",
    "    back_acc_list.append(sum(back_accurate_list)/len(back_accurate_list))\n",
    "    back_count_list.append(len(back_accurate_list))\n",
    "    hedge_accurate_list = []\n",
    "    for i, j in hedge_compare_mean_dict:\n",
    "        if sum(frame_bt_0[i][j]) == 0:\n",
    "            hedge_accurate_list.append(1)\n",
    "        else:\n",
    "            hedge_accurate_list.append(0)\n",
    "    hedge_acc_list.append(sum(hedge_accurate_list)/len(hedge_accurate_list))\n",
    "    hedge_count_list.append(len(hedge_accurate_list))\n",
    "    print('hedge_accuracy', sum(hedge_accurate_list)/len(hedge_accurate_list), len(hedge_accurate_list))\n",
    "import matplotlib.pyplot as plt\n",
    "plt.figure(figsize=(8,6))\n",
    "plt.plot(list(range(1,11)), back_acc_list)\n",
    "plt.plot(list(range(1,11)), hedge_acc_list)\n",
    "plt.title('accuracy of background and hedge prediction\\nwith 14% hedge ratio')\n",
    "plt.legend(['background predict accuracy', 'hedge predict accuracy'])\n",
    "plt.ylabel('accuracy')\n",
    "plt.xlabel('number of compare frames')\n",
    "plt.savefig('back_hedge_14.png')"
   ]
  },
  {
   "cell_type": "code",
   "execution_count": null,
   "metadata": {},
   "outputs": [],
   "source": []
  },
  {
   "cell_type": "code",
   "execution_count": 36,
   "metadata": {},
   "outputs": [
    {
     "data": {
      "image/png": "[encoded data removed]",
      "text/plain": [
       "<Figure size 576x432 with 1 Axes>"
      ]
     },
     "metadata": {
      "needs_background": "light"
     },
     "output_type": "display_data"
    }
   ],
   "source": [
    "back_compare_mean_dict = {}\n",
    "hedge_compare_mean_dict = {}\n",
    "back_acc_list = []\n",
    "back_count_list = []\n",
    "hedge_acc_list = []\n",
    "hedge_count_list = []\n",
    "for i in compare_frame_dict:\n",
    "    if len(back_compare_mean_dict):\n",
    "        back_compare_mean_dict = {k:v for k, v in back_compare_mean_dict.items() if k in compare_frame_dict[i]['back']}\n",
    "    else:\n",
    "        back_compare_mean_dict = compare_frame_dict[i]['back']\n",
    "        \n",
    "    if len(hedge_compare_mean_dict):\n",
    "        hedge_compare_mean_dict = {k:v for k, v in hedge_compare_mean_dict.items() if k in compare_frame_dict[i]['hedge']}\n",
    "    else:\n",
    "        hedge_compare_mean_dict = compare_frame_dict[i]['hedge']\n",
    "    \n",
    "    back_accurate_list = []\n",
    "    for i, j in back_compare_mean_dict:\n",
    "        if sum(frame_bt_0[i][j])==3:\n",
    "            back_accurate_list.append(1)\n",
    "        else:\n",
    "            back_accurate_list.append(0)\n",
    "#     print('back_accuracy', sum(back_accurate_list)/len(back_accurate_list), len(back_accurate_list))\n",
    "    back_acc_list.append(sum(back_accurate_list)/len(back_accurate_list))\n",
    "    back_count_list.append(len(back_accurate_list))\n",
    "    hedge_accurate_list = []\n",
    "    for i, j in hedge_compare_mean_dict:\n",
    "        if sum(frame_bt_0[i][j]) == 0:\n",
    "            hedge_accurate_list.append(1)\n",
    "        else:\n",
    "            hedge_accurate_list.append(0)\n",
    "    hedge_acc_list.append(sum(hedge_accurate_list)/len(hedge_accurate_list))\n",
    "    hedge_count_list.append(len(hedge_accurate_list))\n",
    "#     print('hedge_accuracy', sum(hedge_accurate_list)/len(hedge_accurate_list), len(hedge_accurate_list))\n",
    "import matplotlib.pyplot as plt\n",
    "plt.figure(figsize=(8,6))\n",
    "plt.plot(list(range(1,11)), back_count_list)\n",
    "plt.plot(list(range(1,11)), hedge_count_list)\n",
    "plt.title('accuracy of background and hedge prediction\\nwith 14% hedge ratio')\n",
    "plt.legend(['background pixel count', 'hedge predict count'])\n",
    "plt.ylabel('number of pixels')\n",
    "plt.xlabel('number of compare frames')\n",
    "plt.savefig('back_hedge_14_count.png')"
   ]
  },
  {
   "cell_type": "code",
   "execution_count": null,
   "metadata": {},
   "outputs": [],
   "source": []
  },
  {
   "cell_type": "code",
   "execution_count": 13,
   "metadata": {},
   "outputs": [],
   "source": [
    "# i = 2"
   ]
  },
  {
   "cell_type": "code",
   "execution_count": 14,
   "metadata": {},
   "outputs": [],
   "source": [
    "# back_compare_mean_dict = compare_frame_dict[i]['back']\n",
    "# hedge_compare_mean_dict = compare_frame_dict[i]['hedge']"
   ]
  },
  {
   "cell_type": "code",
   "execution_count": 15,
   "metadata": {},
   "outputs": [
    {
     "name": "stdout",
     "output_type": "stream",
     "text": [
      "0.8636211216856378\n",
      "0.8632779483668033\n",
      "0.8649305758978265\n",
      "0.866053710808308\n",
      "0.8684100278686833\n",
      "0.8763915221143779\n"
     ]
    }
   ],
   "source": [
    "for i in range(-3,4):\n",
    "    if i == 0:\n",
    "        continue\n",
    "    back_compare_mean_dict = compare_frame_dict[i]['back']\n",
    "    back_accurate_list = []\n",
    "    for i, j in back_compare_mean_dict:\n",
    "        if sum(frame_bt_1[i][j])==3:\n",
    "            back_accurate_list.append(1)\n",
    "        else:\n",
    "            back_accurate_list.append(0)\n",
    "    print(sum(back_accurate_list)/len(back_accurate_list))"
   ]
  },
  {
   "cell_type": "code",
   "execution_count": 16,
   "metadata": {},
   "outputs": [
    {
     "name": "stdout",
     "output_type": "stream",
     "text": [
      "0.13229504005454235\n",
      "0.13155024153904998\n",
      "0.13340504827407315\n",
      "0.13399000148492798\n",
      "0.13565384615384615\n",
      "0.14222588578687062\n"
     ]
    }
   ],
   "source": [
    "for i in range(-3,4):\n",
    "    if i == 0:\n",
    "        continue\n",
    "    hedge_compare_mean_dict = compare_frame_dict[i]['hedge']\n",
    "    hedge_accurate_list = []\n",
    "    for i, j in hedge_compare_mean_dict:\n",
    "        if sum(frame_bt_1[i][j]) == 0:\n",
    "            hedge_accurate_list.append(1)\n",
    "        else:\n",
    "            hedge_accurate_list.append(0)\n",
    "    print(sum(hedge_accurate_list)/len(hedge_accurate_list))"
   ]
  },
  {
   "cell_type": "code",
   "execution_count": 17,
   "metadata": {},
   "outputs": [
    {
     "name": "stdout",
     "output_type": "stream",
     "text": [
      "0.8763915221143779\n"
     ]
    }
   ],
   "source": [
    "back_accurate_list = []\n",
    "for i, j in back_compare_mean_dict:\n",
    "    if sum(frame_bt_1[i][j])==3:\n",
    "        back_accurate_list.append(1)\n",
    "    else:\n",
    "        back_accurate_list.append(0)\n",
    "print(sum(back_accurate_list)/len(back_accurate_list))"
   ]
  },
  {
   "cell_type": "code",
   "execution_count": 18,
   "metadata": {},
   "outputs": [
    {
     "name": "stdout",
     "output_type": "stream",
     "text": [
      "0.14222588578687062\n"
     ]
    }
   ],
   "source": [
    "hedge_accurate_list = []\n",
    "for i, j in hedge_compare_mean_dict:\n",
    "    if sum(frame_bt_1[i][j]) == 0:\n",
    "        hedge_accurate_list.append(1)\n",
    "    else:\n",
    "        hedge_accurate_list.append(0)\n",
    "print(sum(hedge_accurate_list)/len(hedge_accurate_list))"
   ]
  },
  {
   "cell_type": "code",
   "execution_count": 19,
   "metadata": {},
   "outputs": [
    {
     "data": {
      "text/plain": [
       "(176695, 222006)"
      ]
     },
     "execution_count": 19,
     "metadata": {},
     "output_type": "execute_result"
    }
   ],
   "source": [
    "len(back_accurate_list), len(hedge_accurate_list)"
   ]
  },
  {
   "cell_type": "code",
   "execution_count": null,
   "metadata": {},
   "outputs": [],
   "source": []
  }
 ],
 "metadata": {
  "kernelspec": {
   "display_name": "Python 3",
   "language": "python",
   "name": "python3"
  },
  "language_info": {
   "codemirror_mode": {
    "name": "ipython",
    "version": 3
   },
   "file_extension": ".py",
   "mimetype": "text/x-python",
   "name": "python",
   "nbconvert_exporter": "python",
   "pygments_lexer": "ipython3",
   "version": "3.7.6"
  }
 },
 "nbformat": 4,
 "nbformat_minor": 2
}
