{
 "cells": [
  {
   "cell_type": "code",
   "execution_count": 1,
   "metadata": {},
   "outputs": [],
   "source": [
    "import numpy as np\n",
    "from tqdm import tqdm\n",
    "import numpy as np\n",
    "compare_frame_dict = np.load('70_hedge_back.npy', allow_pickle=True).item()\n",
    "frame_bt_0 = np.load('70_hedge_back_frame_bt_0.npy')"
   ]
  },
  {
   "cell_type": "code",
   "execution_count": 2,
   "metadata": {},
   "outputs": [
    {
     "name": "stderr",
     "output_type": "stream",
     "text": [
      "100%|██████████████████████| 398701/398701 [00:11<00:00, 34949.78it/s]\n",
      "100%|██████████████████████| 398701/398701 [00:11<00:00, 35922.13it/s]\n",
      "100%|██████████████████████| 398701/398701 [00:11<00:00, 33651.69it/s]\n",
      "100%|██████████████████████| 398701/398701 [00:11<00:00, 34274.06it/s]\n",
      "100%|██████████████████████| 398701/398701 [00:11<00:00, 34901.61it/s]\n",
      "100%|██████████████████████| 398701/398701 [00:11<00:00, 35167.08it/s]\n",
      "100%|██████████████████████| 398701/398701 [00:10<00:00, 37161.13it/s]\n",
      "100%|██████████████████████| 398701/398701 [00:11<00:00, 35821.69it/s]\n",
      "100%|██████████████████████| 398701/398701 [00:10<00:00, 37105.11it/s]\n",
      "100%|██████████████████████| 398701/398701 [00:11<00:00, 35847.96it/s]\n"
     ]
    }
   ],
   "source": [
    "for i in compare_frame_dict:\n",
    "    compare_mean_dict = compare_frame_dict[i]['compare_mean_dict']\n",
    "    euclidean_dis = compare_frame_dict[i]['euclidean_dis']\n",
    "    \n",
    "    for key in tqdm(compare_mean_dict, ncols=70):\n",
    "        compare_mean_dict[key] = np.mean(compare_mean_dict[key], axis=0)\n",
    "        compare_mean_dict[key] = np.sqrt(np.sum(np.power(compare_mean_dict[key], 2)/2))"
   ]
  },
  {
   "cell_type": "code",
   "execution_count": 3,
   "metadata": {},
   "outputs": [
    {
     "name": "stderr",
     "output_type": "stream",
     "text": [
      "100%|██████████| 10/10 [00:13<00:00,  1.31s/it]\n"
     ]
    }
   ],
   "source": [
    "for i in tqdm(compare_frame_dict):\n",
    "    compare_mean_dict = compare_frame_dict[i]['compare_mean_dict']\n",
    "    euclidean_dis = compare_frame_dict[i]['euclidean_dis']\n",
    "\n",
    "    back_compare_mean_dict = {k: v for k, v in sorted(compare_mean_dict.items(), key=lambda item: item[1]) if v <= euclidean_dis * 1.5}\n",
    "    hedge_compare_mean_dict = {k: v for k, v in sorted(compare_mean_dict.items(), key=lambda item: item[1]) if v > euclidean_dis}\n",
    "    compare_frame_dict[i]['back'] = back_compare_mean_dict\n",
    "    compare_frame_dict[i]['hedge'] = hedge_compare_mean_dict"
   ]
  },
  {
   "cell_type": "code",
   "execution_count": 4,
   "metadata": {},
   "outputs": [
    {
     "data": {
      "image/png": "[encoded data removed]",
      "text/plain": [
       "<Figure size 432x288 with 1 Axes>"
      ]
     },
     "metadata": {
      "needs_background": "light"
     },
     "output_type": "display_data"
    }
   ],
   "source": [
    "back_compare_mean_dict = {}\n",
    "hedge_compare_mean_dict = {}\n",
    "back_acc_list = []\n",
    "back_count_list = []\n",
    "hedge_acc_list = []\n",
    "hedge_count_list = []\n",
    "for i in compare_frame_dict:\n",
    "    if len(back_compare_mean_dict):\n",
    "        back_compare_mean_dict = {k:v for k, v in back_compare_mean_dict.items() if k in compare_frame_dict[i]['back']}\n",
    "    else:\n",
    "        back_compare_mean_dict = compare_frame_dict[i]['back']\n",
    "        \n",
    "    if len(hedge_compare_mean_dict):\n",
    "        hedge_compare_mean_dict = {k:v for k, v in hedge_compare_mean_dict.items() if k in compare_frame_dict[i]['hedge']}\n",
    "    else:\n",
    "        hedge_compare_mean_dict = compare_frame_dict[i]['hedge']\n",
    "    \n",
    "    back_accurate_list = []\n",
    "    for i, j in back_compare_mean_dict:\n",
    "        if sum(frame_bt_0[i][j])==3:\n",
    "            back_accurate_list.append(1)\n",
    "        else:\n",
    "            back_accurate_list.append(0)\n",
    "#     print('back_accuracy', sum(back_accurate_list)/len(back_accurate_list), len(back_accurate_list))\n",
    "    back_acc_list.append(sum(back_accurate_list)/len(back_accurate_list))\n",
    "    back_count_list.append(len(back_accurate_list))\n",
    "    hedge_accurate_list = []\n",
    "    for i, j in hedge_compare_mean_dict:\n",
    "        if sum(frame_bt_0[i][j]) == 0:\n",
    "            hedge_accurate_list.append(1)\n",
    "        else:\n",
    "            hedge_accurate_list.append(0)\n",
    "    hedge_acc_list.append(sum(hedge_accurate_list)/len(hedge_accurate_list))\n",
    "    hedge_count_list.append(len(hedge_accurate_list))\n",
    "#     print('hedge_accuracy', sum(hedge_accurate_list)/len(hedge_accurate_list), len(hedge_accurate_list))\n",
    "import matplotlib.pyplot as plt\n",
    "plt.plot(back_acc_list)\n",
    "plt.plot(hedge_acc_list)\n",
    "plt.title('accuracy of background and hedge prediction with 55% background ratio')\n",
    "plt.legend(['background predict accuracy', 'hedge predict accuracy'])\n",
    "plt.ylabel('accuracy')\n",
    "plt.xlabel('number of compare frames')\n",
    "plt.show()"
   ]
  },
  {
   "cell_type": "code",
   "execution_count": null,
   "metadata": {},
   "outputs": [],
   "source": []
  },
  {
   "cell_type": "code",
   "execution_count": null,
   "metadata": {},
   "outputs": [],
   "source": []
  },
  {
   "cell_type": "code",
   "execution_count": null,
   "metadata": {},
   "outputs": [],
   "source": []
  }
 ],
 "metadata": {
  "kernelspec": {
   "display_name": "Python 3",
   "language": "python",
   "name": "python3"
  },
  "language_info": {
   "codemirror_mode": {
    "name": "ipython",
    "version": 3
   },
   "file_extension": ".py",
   "mimetype": "text/x-python",
   "name": "python",
   "nbconvert_exporter": "python",
   "pygments_lexer": "ipython3",
   "version": "3.7.6"
  }
 },
 "nbformat": 4,
 "nbformat_minor": 4
}
